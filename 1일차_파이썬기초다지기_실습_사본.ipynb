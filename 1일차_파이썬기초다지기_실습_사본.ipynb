{
  "cells": [
    {
      "cell_type": "markdown",
      "metadata": {
        "id": "view-in-github",
        "colab_type": "text"
      },
      "source": [
        "<a href=\"https://colab.research.google.com/github/Na-young8589/Nayoung/blob/main/1%EC%9D%BC%EC%B0%A8_%ED%8C%8C%EC%9D%B4%EC%8D%AC%EA%B8%B0%EC%B4%88%EB%8B%A4%EC%A7%80%EA%B8%B0_%EC%8B%A4%EC%8A%B5_%EC%82%AC%EB%B3%B8.ipynb\" target=\"_parent\"><img src=\"https://colab.research.google.com/assets/colab-badge.svg\" alt=\"Open In Colab\"/></a>"
      ]
    },
    {
      "cell_type": "markdown",
      "metadata": {
        "id": "zRxHpy-28GGG"
      },
      "source": [
        "# 1일차-파이썬 기초 다지기"
      ]
    },
    {
      "cell_type": "markdown",
      "metadata": {
        "id": "VRVM91mPB34V"
      },
      "source": [
        "## 1.파이썬 이해하기"
      ]
    },
    {
      "cell_type": "markdown",
      "metadata": {
        "id": "hOwZhukd8GGK"
      },
      "source": [
        "### 파이썬 버전 확인"
      ]
    },
    {
      "cell_type": "code",
      "source": [
        "!python --version"
      ],
      "metadata": {
        "id": "WCJ5nbOTB5ZF",
        "colab": {
          "base_uri": "https://localhost:8080/"
        },
        "outputId": "da84cb9a-892c-46a4-e0a9-a33e319e46b9"
      },
      "execution_count": null,
      "outputs": [
        {
          "output_type": "stream",
          "name": "stdout",
          "text": [
            "Python 3.10.12\n"
          ]
        }
      ]
    },
    {
      "cell_type": "code",
      "source": [
        "import sys #sys 라는 이름의 라이브러리\n",
        "print(sys.version)\n",
        "sys.version"
      ],
      "metadata": {
        "colab": {
          "base_uri": "https://localhost:8080/",
          "height": 54
        },
        "id": "XAKW5B-ox7KZ",
        "outputId": "2e3cff65-783e-4883-fa3c-1dc26dc1e09d"
      },
      "execution_count": null,
      "outputs": [
        {
          "output_type": "stream",
          "name": "stdout",
          "text": [
            "3.10.12 (main, Sep 11 2024, 15:47:36) [GCC 11.4.0]\n"
          ]
        },
        {
          "output_type": "execute_result",
          "data": {
            "text/plain": [
              "'3.10.12 (main, Sep 11 2024, 15:47:36) [GCC 11.4.0]'"
            ],
            "application/vnd.google.colaboratory.intrinsic+json": {
              "type": "string"
            }
          },
          "metadata": {},
          "execution_count": 3
        }
      ]
    },
    {
      "cell_type": "markdown",
      "metadata": {
        "id": "HAFtSTG28GGL"
      },
      "source": [
        "### 파이썬 설치 위치 확인"
      ]
    },
    {
      "cell_type": "code",
      "execution_count": null,
      "metadata": {
        "id": "46cMOIHW8GGM",
        "colab": {
          "base_uri": "https://localhost:8080/"
        },
        "collapsed": true,
        "outputId": "ac5b1c0f-5831-460a-c0ee-fa92166acc7e"
      },
      "outputs": [
        {
          "output_type": "execute_result",
          "data": {
            "text/plain": [
              "['/content',\n",
              " '/env/python',\n",
              " '/usr/lib/python310.zip',\n",
              " '/usr/lib/python3.10',\n",
              " '/usr/lib/python3.10/lib-dynload',\n",
              " '',\n",
              " '/usr/local/lib/python3.10/dist-packages',\n",
              " '/usr/lib/python3/dist-packages',\n",
              " '/usr/local/lib/python3.10/dist-packages/IPython/extensions',\n",
              " '/usr/local/lib/python3.10/dist-packages/setuptools/_vendor',\n",
              " '/root/.ipython']"
            ]
          },
          "metadata": {},
          "execution_count": 5
        }
      ],
      "source": [
        "sys.executable\n",
        "sys.path"
      ]
    },
    {
      "cell_type": "markdown",
      "metadata": {
        "id": "BVZeLUFeILol"
      },
      "source": [
        "### [실습] 파이썬 정보 확인하기\n",
        "\n",
        "\n",
        "1.   설치된 파이썬 버전 출력하기\n",
        "2.   파이썬 실행파일 위치 출력하기\n",
        "\n"
      ]
    },
    {
      "cell_type": "code",
      "execution_count": null,
      "metadata": {
        "id": "wYTlynjPIaj4"
      },
      "outputs": [],
      "source": [
        "import sys\n",
        "\n",
        "print(f'설치된 파이썬 버전: { }')\n",
        "print(f'파이썬 실행파일 위치: { }')"
      ]
    },
    {
      "cell_type": "markdown",
      "metadata": {
        "id": "KE15Fd6jCbUK"
      },
      "source": [
        "### 라이브러리 설치하기"
      ]
    },
    {
      "cell_type": "code",
      "execution_count": null,
      "metadata": {
        "id": "PlG-i1fYCbdI",
        "colab": {
          "base_uri": "https://localhost:8080/"
        },
        "collapsed": true,
        "outputId": "72317689-b5ef-48e6-af8a-ecb1cf32c9e1"
      },
      "outputs": [
        {
          "output_type": "stream",
          "name": "stdout",
          "text": [
            "Requirement already satisfied: missingno in /usr/local/lib/python3.10/dist-packages (0.5.2)\n",
            "Requirement already satisfied: numpy in /usr/local/lib/python3.10/dist-packages (from missingno) (1.26.4)\n",
            "Requirement already satisfied: matplotlib in /usr/local/lib/python3.10/dist-packages (from missingno) (3.7.1)\n",
            "Requirement already satisfied: scipy in /usr/local/lib/python3.10/dist-packages (from missingno) (1.13.1)\n",
            "Requirement already satisfied: seaborn in /usr/local/lib/python3.10/dist-packages (from missingno) (0.13.2)\n",
            "Requirement already satisfied: contourpy>=1.0.1 in /usr/local/lib/python3.10/dist-packages (from matplotlib->missingno) (1.3.0)\n",
            "Requirement already satisfied: cycler>=0.10 in /usr/local/lib/python3.10/dist-packages (from matplotlib->missingno) (0.12.1)\n",
            "Requirement already satisfied: fonttools>=4.22.0 in /usr/local/lib/python3.10/dist-packages (from matplotlib->missingno) (4.54.1)\n",
            "Requirement already satisfied: kiwisolver>=1.0.1 in /usr/local/lib/python3.10/dist-packages (from matplotlib->missingno) (1.4.7)\n",
            "Requirement already satisfied: packaging>=20.0 in /usr/local/lib/python3.10/dist-packages (from matplotlib->missingno) (24.1)\n",
            "Requirement already satisfied: pillow>=6.2.0 in /usr/local/lib/python3.10/dist-packages (from matplotlib->missingno) (10.4.0)\n",
            "Requirement already satisfied: pyparsing>=2.3.1 in /usr/local/lib/python3.10/dist-packages (from matplotlib->missingno) (3.1.4)\n",
            "Requirement already satisfied: python-dateutil>=2.7 in /usr/local/lib/python3.10/dist-packages (from matplotlib->missingno) (2.8.2)\n",
            "Requirement already satisfied: pandas>=1.2 in /usr/local/lib/python3.10/dist-packages (from seaborn->missingno) (2.2.2)\n",
            "Requirement already satisfied: pytz>=2020.1 in /usr/local/lib/python3.10/dist-packages (from pandas>=1.2->seaborn->missingno) (2024.2)\n",
            "Requirement already satisfied: tzdata>=2022.7 in /usr/local/lib/python3.10/dist-packages (from pandas>=1.2->seaborn->missingno) (2024.2)\n",
            "Requirement already satisfied: six>=1.5 in /usr/local/lib/python3.10/dist-packages (from python-dateutil>=2.7->matplotlib->missingno) (1.16.0)\n"
          ]
        }
      ],
      "source": [
        "!pip install missingno #pip 외부 명령어이기 때문에 ! , 파이썬에선 ! 안씀"
      ]
    },
    {
      "cell_type": "markdown",
      "source": [
        "### 라이브러리 삭제하기"
      ],
      "metadata": {
        "id": "3peceTCrCuXS"
      }
    },
    {
      "cell_type": "code",
      "execution_count": null,
      "metadata": {
        "id": "CO9pIWvq8GGN",
        "scrolled": true,
        "colab": {
          "base_uri": "https://localhost:8080/"
        },
        "collapsed": true,
        "outputId": "499bd4d7-198f-46ce-8c27-ee985961c3df"
      },
      "outputs": [
        {
          "output_type": "stream",
          "name": "stdout",
          "text": [
            "Found existing installation: missingno 0.5.2\n",
            "Uninstalling missingno-0.5.2:\n",
            "  Would remove:\n",
            "    /usr/local/lib/python3.10/dist-packages/missingno-0.5.2.dist-info/*\n",
            "    /usr/local/lib/python3.10/dist-packages/missingno/*\n",
            "Proceed (Y/n)? Y\n",
            "  Successfully uninstalled missingno-0.5.2\n"
          ]
        }
      ],
      "source": [
        "!pip uninstall missingno"
      ]
    },
    {
      "cell_type": "markdown",
      "metadata": {
        "id": "5KtJAiS08GGO"
      },
      "source": [
        "### 설치된 라이브러리 확인(전체)"
      ]
    },
    {
      "cell_type": "code",
      "execution_count": null,
      "metadata": {
        "id": "0bsTdq6y8GGO",
        "colab": {
          "base_uri": "https://localhost:8080/"
        },
        "collapsed": true,
        "outputId": "2d4f1b31-76d9-4379-d567-3c317c0d9ee2"
      },
      "outputs": [
        {
          "output_type": "stream",
          "name": "stdout",
          "text": [
            "Package                            Version\n",
            "---------------------------------- -------------------\n",
            "absl-py                            1.4.0\n",
            "accelerate                         0.34.2\n",
            "aiohappyeyeballs                   2.4.3\n",
            "aiohttp                            3.10.9\n",
            "aiosignal                          1.3.1\n",
            "alabaster                          0.7.16\n",
            "albucore                           0.0.16\n",
            "albumentations                     1.4.15\n",
            "altair                             4.2.2\n",
            "annotated-types                    0.7.0\n",
            "anyio                              3.7.1\n",
            "argon2-cffi                        23.1.0\n",
            "argon2-cffi-bindings               21.2.0\n",
            "array_record                       0.5.1\n",
            "arviz                              0.19.0\n",
            "astropy                            6.1.4\n",
            "astropy-iers-data                  0.2024.10.7.0.32.46\n",
            "astunparse                         1.6.3\n",
            "async-timeout                      4.0.3\n",
            "atpublic                           4.1.0\n",
            "attrs                              24.2.0\n",
            "audioread                          3.0.1\n",
            "autograd                           1.7.0\n",
            "babel                              2.16.0\n",
            "backcall                           0.2.0\n",
            "beautifulsoup4                     4.12.3\n",
            "bigframes                          1.21.0\n",
            "bigquery-magics                    0.4.0\n",
            "bleach                             6.1.0\n",
            "blinker                            1.4\n",
            "blis                               0.7.11\n",
            "blosc2                             2.0.0\n",
            "bokeh                              3.4.3\n",
            "Bottleneck                         1.4.0\n",
            "bqplot                             0.12.43\n",
            "branca                             0.8.0\n",
            "build                              1.2.2.post1\n",
            "CacheControl                       0.14.0\n",
            "cachetools                         5.5.0\n",
            "catalogue                          2.0.10\n",
            "certifi                            2024.8.30\n",
            "cffi                               1.17.1\n",
            "chardet                            5.2.0\n",
            "charset-normalizer                 3.3.2\n",
            "chex                               0.1.87\n",
            "clarabel                           0.9.0\n",
            "click                              8.1.7\n",
            "cloudpathlib                       0.19.0\n",
            "cloudpickle                        2.2.1\n",
            "cmake                              3.30.4\n",
            "cmdstanpy                          1.2.4\n",
            "colorcet                           3.1.0\n",
            "colorlover                         0.3.0\n",
            "colour                             0.1.5\n",
            "community                          1.0.0b1\n",
            "confection                         0.1.5\n",
            "cons                               0.4.6\n",
            "contextlib2                        21.6.0\n",
            "contourpy                          1.3.0\n",
            "cryptography                       43.0.1\n",
            "cuda-python                        12.2.1\n",
            "cudf-cu12                          24.6.1\n",
            "cufflinks                          0.17.3\n",
            "cupy-cuda12x                       12.2.0\n",
            "cvxopt                             1.3.2\n",
            "cvxpy                              1.5.3\n",
            "cycler                             0.12.1\n",
            "cymem                              2.0.8\n",
            "Cython                             3.0.11\n",
            "dask                               2024.8.0\n",
            "datascience                        0.17.6\n",
            "db-dtypes                          1.3.0\n",
            "dbus-python                        1.2.18\n",
            "debugpy                            1.6.6\n",
            "decorator                          4.4.2\n",
            "defusedxml                         0.7.1\n",
            "Deprecated                         1.2.14\n",
            "distributed                        2024.8.0\n",
            "distro                             1.7.0\n",
            "dlib                               19.24.2\n",
            "dm-tree                            0.1.8\n",
            "docstring_parser                   0.16\n",
            "docutils                           0.18.1\n",
            "dopamine_rl                        4.0.9\n",
            "duckdb                             1.1.1\n",
            "earthengine-api                    1.0.0\n",
            "easydict                           1.13\n",
            "ecos                               2.0.14\n",
            "editdistance                       0.8.1\n",
            "eerepr                             0.0.4\n",
            "einops                             0.8.0\n",
            "en-core-web-sm                     3.7.1\n",
            "entrypoints                        0.4\n",
            "et-xmlfile                         1.1.0\n",
            "etils                              1.9.4\n",
            "etuples                            0.3.9\n",
            "eval_type_backport                 0.2.0\n",
            "exceptiongroup                     1.2.2\n",
            "fastai                             2.7.17\n",
            "fastcore                           1.7.11\n",
            "fastdownload                       0.0.7\n",
            "fastjsonschema                     2.20.0\n",
            "fastprogress                       1.0.3\n",
            "fastrlock                          0.8.2\n",
            "filelock                           3.16.1\n",
            "firebase-admin                     6.5.0\n",
            "Flask                              2.2.5\n",
            "flatbuffers                        24.3.25\n",
            "flax                               0.8.5\n",
            "folium                             0.17.0\n",
            "fonttools                          4.54.1\n",
            "frozendict                         2.4.5\n",
            "frozenlist                         1.4.1\n",
            "fsspec                             2024.6.1\n",
            "future                             1.0.0\n",
            "gast                               0.6.0\n",
            "gcsfs                              2024.6.1\n",
            "GDAL                               3.6.4\n",
            "gdown                              5.2.0\n",
            "geemap                             0.34.5\n",
            "gensim                             4.3.3\n",
            "geocoder                           1.38.1\n",
            "geographiclib                      2.0\n",
            "geopandas                          1.0.1\n",
            "geopy                              2.4.1\n",
            "gin-config                         0.5.0\n",
            "glob2                              0.7\n",
            "google                             2.0.3\n",
            "google-ai-generativelanguage       0.6.6\n",
            "google-api-core                    2.19.2\n",
            "google-api-python-client           2.137.0\n",
            "google-auth                        2.27.0\n",
            "google-auth-httplib2               0.2.0\n",
            "google-auth-oauthlib               1.2.1\n",
            "google-cloud-aiplatform            1.69.0\n",
            "google-cloud-bigquery              3.25.0\n",
            "google-cloud-bigquery-connection   1.15.5\n",
            "google-cloud-bigquery-storage      2.26.0\n",
            "google-cloud-bigtable              2.26.0\n",
            "google-cloud-core                  2.4.1\n",
            "google-cloud-datastore             2.19.0\n",
            "google-cloud-firestore             2.16.1\n",
            "google-cloud-functions             1.16.5\n",
            "google-cloud-iam                   2.15.2\n",
            "google-cloud-language              2.13.4\n",
            "google-cloud-pubsub                2.25.2\n",
            "google-cloud-resource-manager      1.12.5\n",
            "google-cloud-storage               2.8.0\n",
            "google-cloud-translate             3.15.5\n",
            "google-colab                       1.0.0\n",
            "google-crc32c                      1.6.0\n",
            "google-generativeai                0.7.2\n",
            "google-pasta                       0.2.0\n",
            "google-resumable-media             2.7.2\n",
            "googleapis-common-protos           1.65.0\n",
            "googledrivedownloader              0.4\n",
            "graphviz                           0.20.3\n",
            "greenlet                           3.1.1\n",
            "grpc-google-iam-v1                 0.13.1\n",
            "grpcio                             1.64.1\n",
            "grpcio-status                      1.48.2\n",
            "gspread                            6.0.2\n",
            "gspread-dataframe                  3.3.1\n",
            "gym                                0.25.2\n",
            "gym-notices                        0.0.8\n",
            "h5netcdf                           1.4.0\n",
            "h5py                               3.11.0\n",
            "holidays                           0.57\n",
            "holoviews                          1.19.1\n",
            "html5lib                           1.1\n",
            "httpimport                         1.4.0\n",
            "httplib2                           0.22.0\n",
            "huggingface-hub                    0.24.7\n",
            "humanize                           4.10.0\n",
            "hyperopt                           0.2.7\n",
            "ibis-framework                     9.2.0\n",
            "idna                               3.10\n",
            "imageio                            2.35.1\n",
            "imageio-ffmpeg                     0.5.1\n",
            "imagesize                          1.4.1\n",
            "imbalanced-learn                   0.12.4\n",
            "imgaug                             0.4.0\n",
            "immutabledict                      4.2.0\n",
            "importlib_metadata                 8.4.0\n",
            "importlib_resources                6.4.5\n",
            "imutils                            0.5.4\n",
            "inflect                            7.4.0\n",
            "iniconfig                          2.0.0\n",
            "intel-cmplr-lib-ur                 2024.2.1\n",
            "intel-openmp                       2024.2.1\n",
            "ipyevents                          2.0.2\n",
            "ipyfilechooser                     0.6.0\n",
            "ipykernel                          5.5.6\n",
            "ipyleaflet                         0.19.2\n",
            "ipyparallel                        8.8.0\n",
            "ipython                            7.34.0\n",
            "ipython-genutils                   0.2.0\n",
            "ipython-sql                        0.5.0\n",
            "ipytree                            0.2.2\n",
            "ipywidgets                         7.7.1\n",
            "itsdangerous                       2.2.0\n",
            "jax                                0.4.33\n",
            "jax-cuda12-pjrt                    0.4.33\n",
            "jax-cuda12-plugin                  0.4.33\n",
            "jaxlib                             0.4.33\n",
            "jeepney                            0.7.1\n",
            "jellyfish                          1.1.0\n",
            "jieba                              0.42.1\n",
            "Jinja2                             3.1.4\n",
            "joblib                             1.4.2\n",
            "jsonpickle                         3.3.0\n",
            "jsonschema                         4.23.0\n",
            "jsonschema-specifications          2023.12.1\n",
            "jupyter-client                     6.1.12\n",
            "jupyter-console                    6.1.0\n",
            "jupyter_core                       5.7.2\n",
            "jupyter-leaflet                    0.19.2\n",
            "jupyter-server                     1.24.0\n",
            "jupyterlab_pygments                0.3.0\n",
            "jupyterlab_widgets                 3.0.13\n",
            "kaggle                             1.6.17\n",
            "kagglehub                          0.3.1\n",
            "keras                              3.4.1\n",
            "keyring                            23.5.0\n",
            "kiwisolver                         1.4.7\n",
            "langcodes                          3.4.1\n",
            "language_data                      1.2.0\n",
            "launchpadlib                       1.10.16\n",
            "lazr.restfulclient                 0.14.4\n",
            "lazr.uri                           1.0.6\n",
            "lazy_loader                        0.4\n",
            "libclang                           18.1.1\n",
            "librosa                            0.10.2.post1\n",
            "lightgbm                           4.5.0\n",
            "linkify-it-py                      2.0.3\n",
            "llvmlite                           0.43.0\n",
            "locket                             1.0.0\n",
            "logical-unification                0.4.6\n",
            "lxml                               4.9.4\n",
            "marisa-trie                        1.2.0\n",
            "Markdown                           3.7\n",
            "markdown-it-py                     3.0.0\n",
            "MarkupSafe                         2.1.5\n",
            "matplotlib                         3.7.1\n",
            "matplotlib-inline                  0.1.7\n",
            "matplotlib-venn                    1.1.1\n",
            "mdit-py-plugins                    0.4.2\n",
            "mdurl                              0.1.2\n",
            "miniKanren                         1.0.3\n",
            "mistune                            0.8.4\n",
            "mizani                             0.11.4\n",
            "mkl                                2024.2.2\n",
            "ml-dtypes                          0.4.1\n",
            "mlxtend                            0.23.1\n",
            "more-itertools                     10.5.0\n",
            "moviepy                            1.0.3\n",
            "mpmath                             1.3.0\n",
            "msgpack                            1.0.8\n",
            "multidict                          6.1.0\n",
            "multipledispatch                   1.0.0\n",
            "multitasking                       0.0.11\n",
            "murmurhash                         1.0.10\n",
            "music21                            9.1.0\n",
            "namex                              0.0.8\n",
            "natsort                            8.4.0\n",
            "nbclassic                          1.1.0\n",
            "nbclient                           0.10.0\n",
            "nbconvert                          6.5.4\n",
            "nbformat                           5.10.4\n",
            "nest-asyncio                       1.6.0\n",
            "networkx                           3.3\n",
            "nibabel                            5.2.1\n",
            "nltk                               3.8.1\n",
            "notebook                           6.5.5\n",
            "notebook_shim                      0.2.4\n",
            "numba                              0.60.0\n",
            "numexpr                            2.10.1\n",
            "numpy                              1.26.4\n",
            "nvidia-cublas-cu12                 12.6.3.3\n",
            "nvidia-cuda-cupti-cu12             12.6.80\n",
            "nvidia-cuda-nvcc-cu12              12.6.77\n",
            "nvidia-cuda-runtime-cu12           12.6.77\n",
            "nvidia-cudnn-cu12                  9.4.0.58\n",
            "nvidia-cufft-cu12                  11.3.0.4\n",
            "nvidia-cusolver-cu12               11.7.1.2\n",
            "nvidia-cusparse-cu12               12.5.4.2\n",
            "nvidia-nccl-cu12                   2.23.4\n",
            "nvidia-nvjitlink-cu12              12.6.77\n",
            "nvtx                               0.2.10\n",
            "oauth2client                       4.1.3\n",
            "oauthlib                           3.2.2\n",
            "opencv-contrib-python              4.10.0.84\n",
            "opencv-python                      4.10.0.84\n",
            "opencv-python-headless             4.10.0.84\n",
            "openpyxl                           3.1.5\n",
            "opentelemetry-api                  1.27.0\n",
            "opentelemetry-sdk                  1.27.0\n",
            "opentelemetry-semantic-conventions 0.48b0\n",
            "opt_einsum                         3.4.0\n",
            "optax                              0.2.3\n",
            "optree                             0.13.0\n",
            "orbax-checkpoint                   0.6.4\n",
            "osqp                               0.6.7.post0\n",
            "packaging                          24.1\n",
            "pandas                             2.2.2\n",
            "pandas-datareader                  0.10.0\n",
            "pandas-gbq                         0.23.2\n",
            "pandas-stubs                       2.2.2.240909\n",
            "pandocfilters                      1.5.1\n",
            "panel                              1.4.5\n",
            "param                              2.1.1\n",
            "parso                              0.8.4\n",
            "parsy                              2.1\n",
            "partd                              1.4.2\n",
            "pathlib                            1.0.1\n",
            "patsy                              0.5.6\n",
            "peewee                             3.17.6\n",
            "pexpect                            4.9.0\n",
            "pickleshare                        0.7.5\n",
            "pillow                             10.4.0\n",
            "pip                                24.1.2\n",
            "pip-tools                          7.4.1\n",
            "platformdirs                       4.3.6\n",
            "plotly                             5.24.1\n",
            "plotnine                           0.13.6\n",
            "pluggy                             1.5.0\n",
            "polars                             1.7.1\n",
            "pooch                              1.8.2\n",
            "portpicker                         1.5.2\n",
            "prefetch_generator                 1.0.3\n",
            "preshed                            3.0.9\n",
            "prettytable                        3.11.0\n",
            "proglog                            0.1.10\n",
            "progressbar2                       4.5.0\n",
            "prometheus_client                  0.21.0\n",
            "promise                            2.3\n",
            "prompt_toolkit                     3.0.48\n",
            "prophet                            1.1.6\n",
            "proto-plus                         1.24.0\n",
            "protobuf                           3.20.3\n",
            "psutil                             5.9.5\n",
            "psycopg2                           2.9.9\n",
            "ptyprocess                         0.7.0\n",
            "py-cpuinfo                         9.0.0\n",
            "py4j                               0.10.9.7\n",
            "pyarrow                            16.1.0\n",
            "pyarrow-hotfix                     0.6\n",
            "pyasn1                             0.6.1\n",
            "pyasn1_modules                     0.4.1\n",
            "pycocotools                        2.0.8\n",
            "pycparser                          2.22\n",
            "pydantic                           2.9.2\n",
            "pydantic_core                      2.23.4\n",
            "pydata-google-auth                 1.8.2\n",
            "pydot                              3.0.2\n",
            "pydot-ng                           2.0.0\n",
            "pydotplus                          2.0.2\n",
            "PyDrive                            1.3.1\n",
            "PyDrive2                           1.20.0\n",
            "pyerfa                             2.0.1.4\n",
            "pygame                             2.6.1\n",
            "Pygments                           2.18.0\n",
            "PyGObject                          3.42.1\n",
            "PyJWT                              2.9.0\n",
            "pymc                               5.16.2\n",
            "pymystem3                          0.2.0\n",
            "pynvjitlink-cu12                   0.3.0\n",
            "pyogrio                            0.10.0\n",
            "PyOpenGL                           3.1.7\n",
            "pyOpenSSL                          24.2.1\n",
            "pyparsing                          3.1.4\n",
            "pyperclip                          1.9.0\n",
            "pyproj                             3.7.0\n",
            "pyproject_hooks                    1.2.0\n",
            "pyshp                              2.3.1\n",
            "PySocks                            1.7.1\n",
            "pytensor                           2.25.5\n",
            "pytest                             7.4.4\n",
            "python-apt                         0.0.0\n",
            "python-box                         7.2.0\n",
            "python-dateutil                    2.8.2\n",
            "python-louvain                     0.16\n",
            "python-slugify                     8.0.4\n",
            "python-utils                       3.9.0\n",
            "pytz                               2024.2\n",
            "pyviz_comms                        3.0.3\n",
            "PyYAML                             6.0.2\n",
            "pyzmq                              24.0.1\n",
            "qdldl                              0.1.7.post4\n",
            "ratelim                            0.1.6\n",
            "referencing                        0.35.1\n",
            "regex                              2024.9.11\n",
            "requests                           2.32.3\n",
            "requests-oauthlib                  1.3.1\n",
            "requirements-parser                0.9.0\n",
            "rich                               13.9.2\n",
            "rmm-cu12                           24.6.0\n",
            "rpds-py                            0.20.0\n",
            "rpy2                               3.4.2\n",
            "rsa                                4.9\n",
            "safetensors                        0.4.5\n",
            "scikit-image                       0.24.0\n",
            "scikit-learn                       1.5.2\n",
            "scipy                              1.13.1\n",
            "scooby                             0.10.0\n",
            "scs                                3.2.7\n",
            "seaborn                            0.13.2\n",
            "SecretStorage                      3.3.1\n",
            "Send2Trash                         1.8.3\n",
            "sentencepiece                      0.2.0\n",
            "setuptools                         71.0.4\n",
            "shapely                            2.0.6\n",
            "shellingham                        1.5.4\n",
            "simple-parsing                     0.1.6\n",
            "six                                1.16.0\n",
            "sklearn-pandas                     2.2.0\n",
            "smart-open                         7.0.5\n",
            "sniffio                            1.3.1\n",
            "snowballstemmer                    2.2.0\n",
            "sortedcontainers                   2.4.0\n",
            "soundfile                          0.12.1\n",
            "soupsieve                          2.6\n",
            "soxr                               0.5.0.post1\n",
            "spacy                              3.7.5\n",
            "spacy-legacy                       3.0.12\n",
            "spacy-loggers                      1.0.5\n",
            "Sphinx                             5.0.2\n",
            "sphinxcontrib-applehelp            2.0.0\n",
            "sphinxcontrib-devhelp              2.0.0\n",
            "sphinxcontrib-htmlhelp             2.1.0\n",
            "sphinxcontrib-jsmath               1.0.1\n",
            "sphinxcontrib-qthelp               2.0.0\n",
            "sphinxcontrib-serializinghtml      2.0.0\n",
            "SQLAlchemy                         2.0.35\n",
            "sqlglot                            25.1.0\n",
            "sqlparse                           0.5.1\n",
            "srsly                              2.4.8\n",
            "stanio                             0.5.1\n",
            "statsmodels                        0.14.4\n",
            "StrEnum                            0.4.15\n",
            "sympy                              1.13.3\n",
            "tables                             3.8.0\n",
            "tabulate                           0.9.0\n",
            "tbb                                2021.13.1\n",
            "tblib                              3.0.0\n",
            "tenacity                           9.0.0\n",
            "tensorboard                        2.17.0\n",
            "tensorboard-data-server            0.7.2\n",
            "tensorflow                         2.17.0\n",
            "tensorflow-datasets                4.9.6\n",
            "tensorflow-hub                     0.16.1\n",
            "tensorflow-io-gcs-filesystem       0.37.1\n",
            "tensorflow-metadata                1.16.0\n",
            "tensorflow-probability             0.24.0\n",
            "tensorstore                        0.1.66\n",
            "termcolor                          2.5.0\n",
            "terminado                          0.18.1\n",
            "text-unidecode                     1.3\n",
            "textblob                           0.17.1\n",
            "tf_keras                           2.17.0\n",
            "tf-slim                            1.1.0\n",
            "thinc                              8.2.5\n",
            "threadpoolctl                      3.5.0\n",
            "tifffile                           2024.9.20\n",
            "tinycss2                           1.3.0\n",
            "tokenizers                         0.19.1\n",
            "toml                               0.10.2\n",
            "tomli                              2.0.2\n",
            "toolz                              0.12.1\n",
            "torch                              2.4.1+cu121\n",
            "torchaudio                         2.4.1+cu121\n",
            "torchsummary                       1.5.1\n",
            "torchvision                        0.19.1+cu121\n",
            "tornado                            6.3.3\n",
            "tqdm                               4.66.5\n",
            "traitlets                          5.7.1\n",
            "traittypes                         0.2.1\n",
            "transformers                       4.44.2\n",
            "tweepy                             4.14.0\n",
            "typeguard                          4.3.0\n",
            "typer                              0.12.5\n",
            "types-pytz                         2024.2.0.20241003\n",
            "types-setuptools                   75.1.0.20240917\n",
            "typing_extensions                  4.12.2\n",
            "tzdata                             2024.2\n",
            "tzlocal                            5.2\n",
            "uc-micro-py                        1.0.3\n",
            "uritemplate                        4.1.1\n",
            "urllib3                            2.2.3\n",
            "vega-datasets                      0.9.0\n",
            "wadllib                            1.3.6\n",
            "wasabi                             1.1.3\n",
            "wcwidth                            0.2.13\n",
            "weasel                             0.4.1\n",
            "webcolors                          24.8.0\n",
            "webencodings                       0.5.1\n",
            "websocket-client                   1.8.0\n",
            "Werkzeug                           3.0.4\n",
            "wheel                              0.44.0\n",
            "widgetsnbextension                 3.6.9\n",
            "wordcloud                          1.9.3\n",
            "wrapt                              1.16.0\n",
            "xarray                             2024.9.0\n",
            "xarray-einstats                    0.8.0\n",
            "xgboost                            2.1.1\n",
            "xlrd                               2.0.1\n",
            "xyzservices                        2024.9.0\n",
            "yarl                               1.13.1\n",
            "yellowbrick                        1.5\n",
            "yfinance                           0.2.44\n",
            "zict                               3.0.0\n",
            "zipp                               3.20.2\n"
          ]
        }
      ],
      "source": [
        "pip list"
      ]
    },
    {
      "cell_type": "markdown",
      "metadata": {
        "id": "G_IjDeFh8GGP"
      },
      "source": [
        "### 설치된 라이브러리 확인(특정 라이브러리)"
      ]
    },
    {
      "cell_type": "code",
      "execution_count": null,
      "metadata": {
        "id": "TqvE9YpV8GGP",
        "colab": {
          "base_uri": "https://localhost:8080/"
        },
        "collapsed": true,
        "outputId": "8618707f-1c63-4af4-db86-2b4b7734a9b3"
      },
      "outputs": [
        {
          "output_type": "stream",
          "name": "stdout",
          "text": [
            "Name: numpy\n",
            "Version: 1.26.4\n",
            "Summary: Fundamental package for array computing in Python\n",
            "Home-page: https://numpy.org\n",
            "Author: Travis E. Oliphant et al.\n",
            "Author-email: \n",
            "License: Copyright (c) 2005-2023, NumPy Developers.\n",
            "        All rights reserved.\n",
            "        \n",
            "        Redistribution and use in source and binary forms, with or without\n",
            "        modification, are permitted provided that the following conditions are\n",
            "        met:\n",
            "        \n",
            "            * Redistributions of source code must retain the above copyright\n",
            "               notice, this list of conditions and the following disclaimer.\n",
            "        \n",
            "            * Redistributions in binary form must reproduce the above\n",
            "               copyright notice, this list of conditions and the following\n",
            "               disclaimer in the documentation and/or other materials provided\n",
            "               with the distribution.\n",
            "        \n",
            "            * Neither the name of the NumPy Developers nor the names of any\n",
            "               contributors may be used to endorse or promote products derived\n",
            "               from this software without specific prior written permission.\n",
            "        \n",
            "        THIS SOFTWARE IS PROVIDED BY THE COPYRIGHT HOLDERS AND CONTRIBUTORS\n",
            "        \"AS IS\" AND ANY EXPRESS OR IMPLIED WARRANTIES, INCLUDING, BUT NOT\n",
            "        LIMITED TO, THE IMPLIED WARRANTIES OF MERCHANTABILITY AND FITNESS FOR\n",
            "        A PARTICULAR PURPOSE ARE DISCLAIMED. IN NO EVENT SHALL THE COPYRIGHT\n",
            "        OWNER OR CONTRIBUTORS BE LIABLE FOR ANY DIRECT, INDIRECT, INCIDENTAL,\n",
            "        SPECIAL, EXEMPLARY, OR CONSEQUENTIAL DAMAGES (INCLUDING, BUT NOT\n",
            "        LIMITED TO, PROCUREMENT OF SUBSTITUTE GOODS OR SERVICES; LOSS OF USE,\n",
            "        DATA, OR PROFITS; OR BUSINESS INTERRUPTION) HOWEVER CAUSED AND ON ANY\n",
            "        THEORY OF LIABILITY, WHETHER IN CONTRACT, STRICT LIABILITY, OR TORT\n",
            "        (INCLUDING NEGLIGENCE OR OTHERWISE) ARISING IN ANY WAY OUT OF THE USE\n",
            "        OF THIS SOFTWARE, EVEN IF ADVISED OF THE POSSIBILITY OF SUCH DAMAGE.\n",
            "        \n",
            "        ----\n",
            "        \n",
            "        The NumPy repository and source distributions bundle several libraries that are\n",
            "        compatibly licensed.  We list these here.\n",
            "        \n",
            "        Name: lapack-lite\n",
            "        Files: numpy/linalg/lapack_lite/*\n",
            "        License: BSD-3-Clause\n",
            "          For details, see numpy/linalg/lapack_lite/LICENSE.txt\n",
            "        \n",
            "        Name: tempita\n",
            "        Files: tools/npy_tempita/*\n",
            "        License: MIT\n",
            "          For details, see tools/npy_tempita/license.txt\n",
            "        \n",
            "        Name: dragon4\n",
            "        Files: numpy/core/src/multiarray/dragon4.c\n",
            "        License: MIT\n",
            "          For license text, see numpy/core/src/multiarray/dragon4.c\n",
            "        \n",
            "        Name: libdivide\n",
            "        Files: numpy/core/include/numpy/libdivide/*\n",
            "        License: Zlib\n",
            "          For license text, see numpy/core/include/numpy/libdivide/LICENSE.txt\n",
            "        \n",
            "        \n",
            "        Note that the following files are vendored in the repository and sdist but not\n",
            "        installed in built numpy packages:\n",
            "        \n",
            "        Name: Meson\n",
            "        Files: vendored-meson/meson/*\n",
            "        License: Apache 2.0\n",
            "          For license text, see vendored-meson/meson/COPYING\n",
            "        \n",
            "        Name: spin\n",
            "        Files: .spin/cmds.py\n",
            "        License: BSD-3\n",
            "          For license text, see .spin/LICENSE\n",
            "        \n",
            "        ----\n",
            "        \n",
            "        This binary distribution of NumPy also bundles the following software:\n",
            "        \n",
            "        \n",
            "        Name: OpenBLAS\n",
            "        Files: numpy.libs/libopenblas*.so\n",
            "        Description: bundled as a dynamically linked library\n",
            "        Availability: https://github.com/OpenMathLib/OpenBLAS/\n",
            "        License: BSD-3-Clause\n",
            "          Copyright (c) 2011-2014, The OpenBLAS Project\n",
            "          All rights reserved.\n",
            "        \n",
            "          Redistribution and use in source and binary forms, with or without\n",
            "          modification, are permitted provided that the following conditions are\n",
            "          met:\n",
            "        \n",
            "             1. Redistributions of source code must retain the above copyright\n",
            "                notice, this list of conditions and the following disclaimer.\n",
            "        \n",
            "             2. Redistributions in binary form must reproduce the above copyright\n",
            "                notice, this list of conditions and the following disclaimer in\n",
            "                the documentation and/or other materials provided with the\n",
            "                distribution.\n",
            "             3. Neither the name of the OpenBLAS project nor the names of\n",
            "                its contributors may be used to endorse or promote products\n",
            "                derived from this software without specific prior written\n",
            "                permission.\n",
            "        \n",
            "          THIS SOFTWARE IS PROVIDED BY THE COPYRIGHT HOLDERS AND CONTRIBUTORS \"AS IS\"\n",
            "          AND ANY EXPRESS OR IMPLIED WARRANTIES, INCLUDING, BUT NOT LIMITED TO, THE\n",
            "          IMPLIED WARRANTIES OF MERCHANTABILITY AND FITNESS FOR A PARTICULAR PURPOSE\n",
            "          ARE DISCLAIMED. IN NO EVENT SHALL THE COPYRIGHT OWNER OR CONTRIBUTORS BE\n",
            "          LIABLE FOR ANY DIRECT, INDIRECT, INCIDENTAL, SPECIAL, EXEMPLARY, OR CONSEQUENTIAL\n",
            "          DAMAGES (INCLUDING, BUT NOT LIMITED TO, PROCUREMENT OF SUBSTITUTE GOODS OR\n",
            "          SERVICES; LOSS OF USE, DATA, OR PROFITS; OR BUSINESS INTERRUPTION) HOWEVER\n",
            "          CAUSED AND ON ANY THEORY OF LIABILITY, WHETHER IN CONTRACT, STRICT LIABILITY,\n",
            "          OR TORT (INCLUDING NEGLIGENCE OR OTHERWISE) ARISING IN ANY WAY OUT OF THE\n",
            "          USE OF THIS SOFTWARE, EVEN IF ADVISED OF THE POSSIBILITY OF SUCH DAMAGE.\n",
            "        \n",
            "        \n",
            "        Name: LAPACK\n",
            "        Files: numpy.libs/libopenblas*.so\n",
            "        Description: bundled in OpenBLAS\n",
            "        Availability: https://github.com/OpenMathLib/OpenBLAS/\n",
            "        License: BSD-3-Clause-Attribution\n",
            "          Copyright (c) 1992-2013 The University of Tennessee and The University\n",
            "                                  of Tennessee Research Foundation.  All rights\n",
            "                                  reserved.\n",
            "          Copyright (c) 2000-2013 The University of California Berkeley. All\n",
            "                                  rights reserved.\n",
            "          Copyright (c) 2006-2013 The University of Colorado Denver.  All rights\n",
            "                                  reserved.\n",
            "        \n",
            "          $COPYRIGHT$\n",
            "        \n",
            "          Additional copyrights may follow\n",
            "        \n",
            "          $HEADER$\n",
            "        \n",
            "          Redistribution and use in source and binary forms, with or without\n",
            "          modification, are permitted provided that the following conditions are\n",
            "          met:\n",
            "        \n",
            "          - Redistributions of source code must retain the above copyright\n",
            "            notice, this list of conditions and the following disclaimer.\n",
            "        \n",
            "          - Redistributions in binary form must reproduce the above copyright\n",
            "            notice, this list of conditions and the following disclaimer listed\n",
            "            in this license in the documentation and/or other materials\n",
            "            provided with the distribution.\n",
            "        \n",
            "          - Neither the name of the copyright holders nor the names of its\n",
            "            contributors may be used to endorse or promote products derived from\n",
            "            this software without specific prior written permission.\n",
            "        \n",
            "          The copyright holders provide no reassurances that the source code\n",
            "          provided does not infringe any patent, copyright, or any other\n",
            "          intellectual property rights of third parties.  The copyright holders\n",
            "          disclaim any liability to any recipient for claims brought against\n",
            "          recipient by any third party for infringement of that parties\n",
            "          intellectual property rights.\n",
            "        \n",
            "          THIS SOFTWARE IS PROVIDED BY THE COPYRIGHT HOLDERS AND CONTRIBUTORS\n",
            "          \"AS IS\" AND ANY EXPRESS OR IMPLIED WARRANTIES, INCLUDING, BUT NOT\n",
            "          LIMITED TO, THE IMPLIED WARRANTIES OF MERCHANTABILITY AND FITNESS FOR\n",
            "          A PARTICULAR PURPOSE ARE DISCLAIMED. IN NO EVENT SHALL THE COPYRIGHT\n",
            "          OWNER OR CONTRIBUTORS BE LIABLE FOR ANY DIRECT, INDIRECT, INCIDENTAL,\n",
            "          SPECIAL, EXEMPLARY, OR CONSEQUENTIAL DAMAGES (INCLUDING, BUT NOT\n",
            "          LIMITED TO, PROCUREMENT OF SUBSTITUTE GOODS OR SERVICES; LOSS OF USE,\n",
            "          DATA, OR PROFITS; OR BUSINESS INTERRUPTION) HOWEVER CAUSED AND ON ANY\n",
            "          THEORY OF LIABILITY, WHETHER IN CONTRACT, STRICT LIABILITY, OR TORT\n",
            "          (INCLUDING NEGLIGENCE OR OTHERWISE) ARISING IN ANY WAY OUT OF THE USE\n",
            "          OF THIS SOFTWARE, EVEN IF ADVISED OF THE POSSIBILITY OF SUCH DAMAGE.\n",
            "        \n",
            "        \n",
            "        Name: GCC runtime library\n",
            "        Files: numpy.libs/libgfortran*.so\n",
            "        Description: dynamically linked to files compiled with gcc\n",
            "        Availability: https://gcc.gnu.org/git/?p=gcc.git;a=tree;f=libgfortran\n",
            "        License: GPL-3.0-with-GCC-exception\n",
            "          Copyright (C) 2002-2017 Free Software Foundation, Inc.\n",
            "        \n",
            "          Libgfortran is free software; you can redistribute it and/or modify\n",
            "          it under the terms of the GNU General Public License as published by\n",
            "          the Free Software Foundation; either version 3, or (at your option)\n",
            "          any later version.\n",
            "        \n",
            "          Libgfortran is distributed in the hope that it will be useful,\n",
            "          but WITHOUT ANY WARRANTY; without even the implied warranty of\n",
            "          MERCHANTABILITY or FITNESS FOR A PARTICULAR PURPOSE.  See the\n",
            "          GNU General Public License for more details.\n",
            "        \n",
            "          Under Section 7 of GPL version 3, you are granted additional\n",
            "          permissions described in the GCC Runtime Library Exception, version\n",
            "          3.1, as published by the Free Software Foundation.\n",
            "        \n",
            "          You should have received a copy of the GNU General Public License and\n",
            "          a copy of the GCC Runtime Library Exception along with this program;\n",
            "          see the files COPYING3 and COPYING.RUNTIME respectively.  If not, see\n",
            "          <http://www.gnu.org/licenses/>.\n",
            "        \n",
            "        ----\n",
            "        \n",
            "        Full text of license texts referred to above follows (that they are\n",
            "        listed below does not necessarily imply the conditions apply to the\n",
            "        present binary release):\n",
            "        \n",
            "        ----\n",
            "        \n",
            "        GCC RUNTIME LIBRARY EXCEPTION\n",
            "        \n",
            "        Version 3.1, 31 March 2009\n",
            "        \n",
            "        Copyright (C) 2009 Free Software Foundation, Inc. <http://fsf.org/>\n",
            "        \n",
            "        Everyone is permitted to copy and distribute verbatim copies of this\n",
            "        license document, but changing it is not allowed.\n",
            "        \n",
            "        This GCC Runtime Library Exception (\"Exception\") is an additional\n",
            "        permission under section 7 of the GNU General Public License, version\n",
            "        3 (\"GPLv3\"). It applies to a given file (the \"Runtime Library\") that\n",
            "        bears a notice placed by the copyright holder of the file stating that\n",
            "        the file is governed by GPLv3 along with this Exception.\n",
            "        \n",
            "        When you use GCC to compile a program, GCC may combine portions of\n",
            "        certain GCC header files and runtime libraries with the compiled\n",
            "        program. The purpose of this Exception is to allow compilation of\n",
            "        non-GPL (including proprietary) programs to use, in this way, the\n",
            "        header files and runtime libraries covered by this Exception.\n",
            "        \n",
            "        0. Definitions.\n",
            "        \n",
            "        A file is an \"Independent Module\" if it either requires the Runtime\n",
            "        Library for execution after a Compilation Process, or makes use of an\n",
            "        interface provided by the Runtime Library, but is not otherwise based\n",
            "        on the Runtime Library.\n",
            "        \n",
            "        \"GCC\" means a version of the GNU Compiler Collection, with or without\n",
            "        modifications, governed by version 3 (or a specified later version) of\n",
            "        the GNU General Public License (GPL) with the option of using any\n",
            "        subsequent versions published by the FSF.\n",
            "        \n",
            "        \"GPL-compatible Software\" is software whose conditions of propagation,\n",
            "        modification and use would permit combination with GCC in accord with\n",
            "        the license of GCC.\n",
            "        \n",
            "        \"Target Code\" refers to output from any compiler for a real or virtual\n",
            "        target processor architecture, in executable form or suitable for\n",
            "        input to an assembler, loader, linker and/or execution\n",
            "        phase. Notwithstanding that, Target Code does not include data in any\n",
            "        format that is used as a compiler intermediate representation, or used\n",
            "        for producing a compiler intermediate representation.\n",
            "        \n",
            "        The \"Compilation Process\" transforms code entirely represented in\n",
            "        non-intermediate languages designed for human-written code, and/or in\n",
            "        Java Virtual Machine byte code, into Target Code. Thus, for example,\n",
            "        use of source code generators and preprocessors need not be considered\n",
            "        part of the Compilation Process, since the Compilation Process can be\n",
            "        understood as starting with the output of the generators or\n",
            "        preprocessors.\n",
            "        \n",
            "        A Compilation Process is \"Eligible\" if it is done using GCC, alone or\n",
            "        with other GPL-compatible software, or if it is done without using any\n",
            "        work based on GCC. For example, using non-GPL-compatible Software to\n",
            "        optimize any GCC intermediate representations would not qualify as an\n",
            "        Eligible Compilation Process.\n",
            "        \n",
            "        1. Grant of Additional Permission.\n",
            "        \n",
            "        You have permission to propagate a work of Target Code formed by\n",
            "        combining the Runtime Library with Independent Modules, even if such\n",
            "        propagation would otherwise violate the terms of GPLv3, provided that\n",
            "        all Target Code was generated by Eligible Compilation Processes. You\n",
            "        may then convey such a combination under terms of your choice,\n",
            "        consistent with the licensing of the Independent Modules.\n",
            "        \n",
            "        2. No Weakening of GCC Copyleft.\n",
            "        \n",
            "        The availability of this Exception does not imply any general\n",
            "        presumption that third-party software is unaffected by the copyleft\n",
            "        requirements of the license of GCC.\n",
            "        \n",
            "        ----\n",
            "        \n",
            "                            GNU GENERAL PUBLIC LICENSE\n",
            "                               Version 3, 29 June 2007\n",
            "        \n",
            "         Copyright (C) 2007 Free Software Foundation, Inc. <http://fsf.org/>\n",
            "         Everyone is permitted to copy and distribute verbatim copies\n",
            "         of this license document, but changing it is not allowed.\n",
            "        \n",
            "                                    Preamble\n",
            "        \n",
            "          The GNU General Public License is a free, copyleft license for\n",
            "        software and other kinds of works.\n",
            "        \n",
            "          The licenses for most software and other practical works are designed\n",
            "        to take away your freedom to share and change the works.  By contrast,\n",
            "        the GNU General Public License is intended to guarantee your freedom to\n",
            "        share and change all versions of a program--to make sure it remains free\n",
            "        software for all its users.  We, the Free Software Foundation, use the\n",
            "        GNU General Public License for most of our software; it applies also to\n",
            "        any other work released this way by its authors.  You can apply it to\n",
            "        your programs, too.\n",
            "        \n",
            "          When we speak of free software, we are referring to freedom, not\n",
            "        price.  Our General Public Licenses are designed to make sure that you\n",
            "        have the freedom to distribute copies of free software (and charge for\n",
            "        them if you wish), that you receive source code or can get it if you\n",
            "        want it, that you can change the software or use pieces of it in new\n",
            "        free programs, and that you know you can do these things.\n",
            "        \n",
            "          To protect your rights, we need to prevent others from denying you\n",
            "        these rights or asking you to surrender the rights.  Therefore, you have\n",
            "        certain responsibilities if you distribute copies of the software, or if\n",
            "        you modify it: responsibilities to respect the freedom of others.\n",
            "        \n",
            "          For example, if you distribute copies of such a program, whether\n",
            "        gratis or for a fee, you must pass on to the recipients the same\n",
            "        freedoms that you received.  You must make sure that they, too, receive\n",
            "        or can get the source code.  And you must show them these terms so they\n",
            "        know their rights.\n",
            "        \n",
            "          Developers that use the GNU GPL protect your rights with two steps:\n",
            "        (1) assert copyright on the software, and (2) offer you this License\n",
            "        giving you legal permission to copy, distribute and/or modify it.\n",
            "        \n",
            "          For the developers' and authors' protection, the GPL clearly explains\n",
            "        that there is no warranty for this free software.  For both users' and\n",
            "        authors' sake, the GPL requires that modified versions be marked as\n",
            "        changed, so that their problems will not be attributed erroneously to\n",
            "        authors of previous versions.\n",
            "        \n",
            "          Some devices are designed to deny users access to install or run\n",
            "        modified versions of the software inside them, although the manufacturer\n",
            "        can do so.  This is fundamentally incompatible with the aim of\n",
            "        protecting users' freedom to change the software.  The systematic\n",
            "        pattern of such abuse occurs in the area of products for individuals to\n",
            "        use, which is precisely where it is most unacceptable.  Therefore, we\n",
            "        have designed this version of the GPL to prohibit the practice for those\n",
            "        products.  If such problems arise substantially in other domains, we\n",
            "        stand ready to extend this provision to those domains in future versions\n",
            "        of the GPL, as needed to protect the freedom of users.\n",
            "        \n",
            "          Finally, every program is threatened constantly by software patents.\n",
            "        States should not allow patents to restrict development and use of\n",
            "        software on general-purpose computers, but in those that do, we wish to\n",
            "        avoid the special danger that patents applied to a free program could\n",
            "        make it effectively proprietary.  To prevent this, the GPL assures that\n",
            "        patents cannot be used to render the program non-free.\n",
            "        \n",
            "          The precise terms and conditions for copying, distribution and\n",
            "        modification follow.\n",
            "        \n",
            "                               TERMS AND CONDITIONS\n",
            "        \n",
            "          0. Definitions.\n",
            "        \n",
            "          \"This License\" refers to version 3 of the GNU General Public License.\n",
            "        \n",
            "          \"Copyright\" also means copyright-like laws that apply to other kinds of\n",
            "        works, such as semiconductor masks.\n",
            "        \n",
            "          \"The Program\" refers to any copyrightable work licensed under this\n",
            "        License.  Each licensee is addressed as \"you\".  \"Licensees\" and\n",
            "        \"recipients\" may be individuals or organizations.\n",
            "        \n",
            "          To \"modify\" a work means to copy from or adapt all or part of the work\n",
            "        in a fashion requiring copyright permission, other than the making of an\n",
            "        exact copy.  The resulting work is called a \"modified version\" of the\n",
            "        earlier work or a work \"based on\" the earlier work.\n",
            "        \n",
            "          A \"covered work\" means either the unmodified Program or a work based\n",
            "        on the Program.\n",
            "        \n",
            "          To \"propagate\" a work means to do anything with it that, without\n",
            "        permission, would make you directly or secondarily liable for\n",
            "        infringement under applicable copyright law, except executing it on a\n",
            "        computer or modifying a private copy.  Propagation includes copying,\n",
            "        distribution (with or without modification), making available to the\n",
            "        public, and in some countries other activities as well.\n",
            "        \n",
            "          To \"convey\" a work means any kind of propagation that enables other\n",
            "        parties to make or receive copies.  Mere interaction with a user through\n",
            "        a computer network, with no transfer of a copy, is not conveying.\n",
            "        \n",
            "          An interactive user interface displays \"Appropriate Legal Notices\"\n",
            "        to the extent that it includes a convenient and prominently visible\n",
            "        feature that (1) displays an appropriate copyright notice, and (2)\n",
            "        tells the user that there is no warranty for the work (except to the\n",
            "        extent that warranties are provided), that licensees may convey the\n",
            "        work under this License, and how to view a copy of this License.  If\n",
            "        the interface presents a list of user commands or options, such as a\n",
            "        menu, a prominent item in the list meets this criterion.\n",
            "        \n",
            "          1. Source Code.\n",
            "        \n",
            "          The \"source code\" for a work means the preferred form of the work\n",
            "        for making modifications to it.  \"Object code\" means any non-source\n",
            "        form of a work.\n",
            "        \n",
            "          A \"Standard Interface\" means an interface that either is an official\n",
            "        standard defined by a recognized standards body, or, in the case of\n",
            "        interfaces specified for a particular programming language, one that\n",
            "        is widely used among developers working in that language.\n",
            "        \n",
            "          The \"System Libraries\" of an executable work include anything, other\n",
            "        than the work as a whole, that (a) is included in the normal form of\n",
            "        packaging a Major Component, but which is not part of that Major\n",
            "        Component, and (b) serves only to enable use of the work with that\n",
            "        Major Component, or to implement a Standard Interface for which an\n",
            "        implementation is available to the public in source code form.  A\n",
            "        \"Major Component\", in this context, means a major essential component\n",
            "        (kernel, window system, and so on) of the specific operating system\n",
            "        (if any) on which the executable work runs, or a compiler used to\n",
            "        produce the work, or an object code interpreter used to run it.\n",
            "        \n",
            "          The \"Corresponding Source\" for a work in object code form means all\n",
            "        the source code needed to generate, install, and (for an executable\n",
            "        work) run the object code and to modify the work, including scripts to\n",
            "        control those activities.  However, it does not include the work's\n",
            "        System Libraries, or general-purpose tools or generally available free\n",
            "        programs which are used unmodified in performing those activities but\n",
            "        which are not part of the work.  For example, Corresponding Source\n",
            "        includes interface definition files associated with source files for\n",
            "        the work, and the source code for shared libraries and dynamically\n",
            "        linked subprograms that the work is specifically designed to require,\n",
            "        such as by intimate data communication or control flow between those\n",
            "        subprograms and other parts of the work.\n",
            "        \n",
            "          The Corresponding Source need not include anything that users\n",
            "        can regenerate automatically from other parts of the Corresponding\n",
            "        Source.\n",
            "        \n",
            "          The Corresponding Source for a work in source code form is that\n",
            "        same work.\n",
            "        \n",
            "          2. Basic Permissions.\n",
            "        \n",
            "          All rights granted under this License are granted for the term of\n",
            "        copyright on the Program, and are irrevocable provided the stated\n",
            "        conditions are met.  This License explicitly affirms your unlimited\n",
            "        permission to run the unmodified Program.  The output from running a\n",
            "        covered work is covered by this License only if the output, given its\n",
            "        content, constitutes a covered work.  This License acknowledges your\n",
            "        rights of fair use or other equivalent, as provided by copyright law.\n",
            "        \n",
            "          You may make, run and propagate covered works that you do not\n",
            "        convey, without conditions so long as your license otherwise remains\n",
            "        in force.  You may convey covered works to others for the sole purpose\n",
            "        of having them make modifications exclusively for you, or provide you\n",
            "        with facilities for running those works, provided that you comply with\n",
            "        the terms of this License in conveying all material for which you do\n",
            "        not control copyright.  Those thus making or running the covered works\n",
            "        for you must do so exclusively on your behalf, under your direction\n",
            "        and control, on terms that prohibit them from making any copies of\n",
            "        your copyrighted material outside their relationship with you.\n",
            "        \n",
            "          Conveying under any other circumstances is permitted solely under\n",
            "        the conditions stated below.  Sublicensing is not allowed; section 10\n",
            "        makes it unnecessary.\n",
            "        \n",
            "          3. Protecting Users' Legal Rights From Anti-Circumvention Law.\n",
            "        \n",
            "          No covered work shall be deemed part of an effective technological\n",
            "        measure under any applicable law fulfilling obligations under article\n",
            "        11 of the WIPO copyright treaty adopted on 20 December 1996, or\n",
            "        similar laws prohibiting or restricting circumvention of such\n",
            "        measures.\n",
            "        \n",
            "          When you convey a covered work, you waive any legal power to forbid\n",
            "        circumvention of technological measures to the extent such circumvention\n",
            "        is effected by exercising rights under this License with respect to\n",
            "        the covered work, and you disclaim any intention to limit operation or\n",
            "        modification of the work as a means of enforcing, against the work's\n",
            "        users, your or third parties' legal rights to forbid circumvention of\n",
            "        technological measures.\n",
            "        \n",
            "          4. Conveying Verbatim Copies.\n",
            "        \n",
            "          You may convey verbatim copies of the Program's source code as you\n",
            "        receive it, in any medium, provided that you conspicuously and\n",
            "        appropriately publish on each copy an appropriate copyright notice;\n",
            "        keep intact all notices stating that this License and any\n",
            "        non-permissive terms added in accord with section 7 apply to the code;\n",
            "        keep intact all notices of the absence of any warranty; and give all\n",
            "        recipients a copy of this License along with the Program.\n",
            "        \n",
            "          You may charge any price or no price for each copy that you convey,\n",
            "        and you may offer support or warranty protection for a fee.\n",
            "        \n",
            "          5. Conveying Modified Source Versions.\n",
            "        \n",
            "          You may convey a work based on the Program, or the modifications to\n",
            "        produce it from the Program, in the form of source code under the\n",
            "        terms of section 4, provided that you also meet all of these conditions:\n",
            "        \n",
            "            a) The work must carry prominent notices stating that you modified\n",
            "            it, and giving a relevant date.\n",
            "        \n",
            "            b) The work must carry prominent notices stating that it is\n",
            "            released under this License and any conditions added under section\n",
            "            7.  This requirement modifies the requirement in section 4 to\n",
            "            \"keep intact all notices\".\n",
            "        \n",
            "            c) You must license the entire work, as a whole, under this\n",
            "            License to anyone who comes into possession of a copy.  This\n",
            "            License will therefore apply, along with any applicable section 7\n",
            "            additional terms, to the whole of the work, and all its parts,\n",
            "            regardless of how they are packaged.  This License gives no\n",
            "            permission to license the work in any other way, but it does not\n",
            "            invalidate such permission if you have separately received it.\n",
            "        \n",
            "            d) If the work has interactive user interfaces, each must display\n",
            "            Appropriate Legal Notices; however, if the Program has interactive\n",
            "            interfaces that do not display Appropriate Legal Notices, your\n",
            "            work need not make them do so.\n",
            "        \n",
            "          A compilation of a covered work with other separate and independent\n",
            "        works, which are not by their nature extensions of the covered work,\n",
            "        and which are not combined with it such as to form a larger program,\n",
            "        in or on a volume of a storage or distribution medium, is called an\n",
            "        \"aggregate\" if the compilation and its resulting copyright are not\n",
            "        used to limit the access or legal rights of the compilation's users\n",
            "        beyond what the individual works permit.  Inclusion of a covered work\n",
            "        in an aggregate does not cause this License to apply to the other\n",
            "        parts of the aggregate.\n",
            "        \n",
            "          6. Conveying Non-Source Forms.\n",
            "        \n",
            "          You may convey a covered work in object code form under the terms\n",
            "        of sections 4 and 5, provided that you also convey the\n",
            "        machine-readable Corresponding Source under the terms of this License,\n",
            "        in one of these ways:\n",
            "        \n",
            "            a) Convey the object code in, or embodied in, a physical product\n",
            "            (including a physical distribution medium), accompanied by the\n",
            "            Corresponding Source fixed on a durable physical medium\n",
            "            customarily used for software interchange.\n",
            "        \n",
            "            b) Convey the object code in, or embodied in, a physical product\n",
            "            (including a physical distribution medium), accompanied by a\n",
            "            written offer, valid for at least three years and valid for as\n",
            "            long as you offer spare parts or customer support for that product\n",
            "            model, to give anyone who possesses the object code either (1) a\n",
            "            copy of the Corresponding Source for all the software in the\n",
            "            product that is covered by this License, on a durable physical\n",
            "            medium customarily used for software interchange, for a price no\n",
            "            more than your reasonable cost of physically performing this\n",
            "            conveying of source, or (2) access to copy the\n",
            "            Corresponding Source from a network server at no charge.\n",
            "        \n",
            "            c) Convey individual copies of the object code with a copy of the\n",
            "            written offer to provide the Corresponding Source.  This\n",
            "            alternative is allowed only occasionally and noncommercially, and\n",
            "            only if you received the object code with such an offer, in accord\n",
            "            with subsection 6b.\n",
            "        \n",
            "            d) Convey the object code by offering access from a designated\n",
            "            place (gratis or for a charge), and offer equivalent access to the\n",
            "            Corresponding Source in the same way through the same place at no\n",
            "            further charge.  You need not require recipients to copy the\n",
            "            Corresponding Source along with the object code.  If the place to\n",
            "            copy the object code is a network server, the Corresponding Source\n",
            "            may be on a different server (operated by you or a third party)\n",
            "            that supports equivalent copying facilities, provided you maintain\n",
            "            clear directions next to the object code saying where to find the\n",
            "            Corresponding Source.  Regardless of what server hosts the\n",
            "            Corresponding Source, you remain obligated to ensure that it is\n",
            "            available for as long as needed to satisfy these requirements.\n",
            "        \n",
            "            e) Convey the object code using peer-to-peer transmission, provided\n",
            "            you inform other peers where the object code and Corresponding\n",
            "            Source of the work are being offered to the general public at no\n",
            "            charge under subsection 6d.\n",
            "        \n",
            "          A separable portion of the object code, whose source code is excluded\n",
            "        from the Corresponding Source as a System Library, need not be\n",
            "        included in conveying the object code work.\n",
            "        \n",
            "          A \"User Product\" is either (1) a \"consumer product\", which means any\n",
            "        tangible personal property which is normally used for personal, family,\n",
            "        or household purposes, or (2) anything designed or sold for incorporation\n",
            "        into a dwelling.  In determining whether a product is a consumer product,\n",
            "        doubtful cases shall be resolved in favor of coverage.  For a particular\n",
            "        product received by a particular user, \"normally used\" refers to a\n",
            "        typical or common use of that class of product, regardless of the status\n",
            "        of the particular user or of the way in which the particular user\n",
            "        actually uses, or expects or is expected to use, the product.  A product\n",
            "        is a consumer product regardless of whether the product has substantial\n",
            "        commercial, industrial or non-consumer uses, unless such uses represent\n",
            "        the only significant mode of use of the product.\n",
            "        \n",
            "          \"Installation Information\" for a User Product means any methods,\n",
            "        procedures, authorization keys, or other information required to install\n",
            "        and execute modified versions of a covered work in that User Product from\n",
            "        a modified version of its Corresponding Source.  The information must\n",
            "        suffice to ensure that the continued functioning of the modified object\n",
            "        code is in no case prevented or interfered with solely because\n",
            "        modification has been made.\n",
            "        \n",
            "          If you convey an object code work under this section in, or with, or\n",
            "        specifically for use in, a User Product, and the conveying occurs as\n",
            "        part of a transaction in which the right of possession and use of the\n",
            "        User Product is transferred to the recipient in perpetuity or for a\n",
            "        fixed term (regardless of how the transaction is characterized), the\n",
            "        Corresponding Source conveyed under this section must be accompanied\n",
            "        by the Installation Information.  But this requirement does not apply\n",
            "        if neither you nor any third party retains the ability to install\n",
            "        modified object code on the User Product (for example, the work has\n",
            "        been installed in ROM).\n",
            "        \n",
            "          The requirement to provide Installation Information does not include a\n",
            "        requirement to continue to provide support service, warranty, or updates\n",
            "        for a work that has been modified or installed by the recipient, or for\n",
            "        the User Product in which it has been modified or installed.  Access to a\n",
            "        network may be denied when the modification itself materially and\n",
            "        adversely affects the operation of the network or violates the rules and\n",
            "        protocols for communication across the network.\n",
            "        \n",
            "          Corresponding Source conveyed, and Installation Information provided,\n",
            "        in accord with this section must be in a format that is publicly\n",
            "        documented (and with an implementation available to the public in\n",
            "        source code form), and must require no special password or key for\n",
            "        unpacking, reading or copying.\n",
            "        \n",
            "          7. Additional Terms.\n",
            "        \n",
            "          \"Additional permissions\" are terms that supplement the terms of this\n",
            "        License by making exceptions from one or more of its conditions.\n",
            "        Additional permissions that are applicable to the entire Program shall\n",
            "        be treated as though they were included in this License, to the extent\n",
            "        that they are valid under applicable law.  If additional permissions\n",
            "        apply only to part of the Program, that part may be used separately\n",
            "        under those permissions, but the entire Program remains governed by\n",
            "        this License without regard to the additional permissions.\n",
            "        \n",
            "          When you convey a copy of a covered work, you may at your option\n",
            "        remove any additional permissions from that copy, or from any part of\n",
            "        it.  (Additional permissions may be written to require their own\n",
            "        removal in certain cases when you modify the work.)  You may place\n",
            "        additional permissions on material, added by you to a covered work,\n",
            "        for which you have or can give appropriate copyright permission.\n",
            "        \n",
            "          Notwithstanding any other provision of this License, for material you\n",
            "        add to a covered work, you may (if authorized by the copyright holders of\n",
            "        that material) supplement the terms of this License with terms:\n",
            "        \n",
            "            a) Disclaiming warranty or limiting liability differently from the\n",
            "            terms of sections 15 and 16 of this License; or\n",
            "        \n",
            "            b) Requiring preservation of specified reasonable legal notices or\n",
            "            author attributions in that material or in the Appropriate Legal\n",
            "            Notices displayed by works containing it; or\n",
            "        \n",
            "            c) Prohibiting misrepresentation of the origin of that material, or\n",
            "            requiring that modified versions of such material be marked in\n",
            "            reasonable ways as different from the original version; or\n",
            "        \n",
            "            d) Limiting the use for publicity purposes of names of licensors or\n",
            "            authors of the material; or\n",
            "        \n",
            "            e) Declining to grant rights under trademark law for use of some\n",
            "            trade names, trademarks, or service marks; or\n",
            "        \n",
            "            f) Requiring indemnification of licensors and authors of that\n",
            "            material by anyone who conveys the material (or modified versions of\n",
            "            it) with contractual assumptions of liability to the recipient, for\n",
            "            any liability that these contractual assumptions directly impose on\n",
            "            those licensors and authors.\n",
            "        \n",
            "          All other non-permissive additional terms are considered \"further\n",
            "        restrictions\" within the meaning of section 10.  If the Program as you\n",
            "        received it, or any part of it, contains a notice stating that it is\n",
            "        governed by this License along with a term that is a further\n",
            "        restriction, you may remove that term.  If a license document contains\n",
            "        a further restriction but permits relicensing or conveying under this\n",
            "        License, you may add to a covered work material governed by the terms\n",
            "        of that license document, provided that the further restriction does\n",
            "        not survive such relicensing or conveying.\n",
            "        \n",
            "          If you add terms to a covered work in accord with this section, you\n",
            "        must place, in the relevant source files, a statement of the\n",
            "        additional terms that apply to those files, or a notice indicating\n",
            "        where to find the applicable terms.\n",
            "        \n",
            "          Additional terms, permissive or non-permissive, may be stated in the\n",
            "        form of a separately written license, or stated as exceptions;\n",
            "        the above requirements apply either way.\n",
            "        \n",
            "          8. Termination.\n",
            "        \n",
            "          You may not propagate or modify a covered work except as expressly\n",
            "        provided under this License.  Any attempt otherwise to propagate or\n",
            "        modify it is void, and will automatically terminate your rights under\n",
            "        this License (including any patent licenses granted under the third\n",
            "        paragraph of section 11).\n",
            "        \n",
            "          However, if you cease all violation of this License, then your\n",
            "        license from a particular copyright holder is reinstated (a)\n",
            "        provisionally, unless and until the copyright holder explicitly and\n",
            "        finally terminates your license, and (b) permanently, if the copyright\n",
            "        holder fails to notify you of the violation by some reasonable means\n",
            "        prior to 60 days after the cessation.\n",
            "        \n",
            "          Moreover, your license from a particular copyright holder is\n",
            "        reinstated permanently if the copyright holder notifies you of the\n",
            "        violation by some reasonable means, this is the first time you have\n",
            "        received notice of violation of this License (for any work) from that\n",
            "        copyright holder, and you cure the violation prior to 30 days after\n",
            "        your receipt of the notice.\n",
            "        \n",
            "          Termination of your rights under this section does not terminate the\n",
            "        licenses of parties who have received copies or rights from you under\n",
            "        this License.  If your rights have been terminated and not permanently\n",
            "        reinstated, you do not qualify to receive new licenses for the same\n",
            "        material under section 10.\n",
            "        \n",
            "          9. Acceptance Not Required for Having Copies.\n",
            "        \n",
            "          You are not required to accept this License in order to receive or\n",
            "        run a copy of the Program.  Ancillary propagation of a covered work\n",
            "        occurring solely as a consequence of using peer-to-peer transmission\n",
            "        to receive a copy likewise does not require acceptance.  However,\n",
            "        nothing other than this License grants you permission to propagate or\n",
            "        modify any covered work.  These actions infringe copyright if you do\n",
            "        not accept this License.  Therefore, by modifying or propagating a\n",
            "        covered work, you indicate your acceptance of this License to do so.\n",
            "        \n",
            "          10. Automatic Licensing of Downstream Recipients.\n",
            "        \n",
            "          Each time you convey a covered work, the recipient automatically\n",
            "        receives a license from the original licensors, to run, modify and\n",
            "        propagate that work, subject to this License.  You are not responsible\n",
            "        for enforcing compliance by third parties with this License.\n",
            "        \n",
            "          An \"entity transaction\" is a transaction transferring control of an\n",
            "        organization, or substantially all assets of one, or subdividing an\n",
            "        organization, or merging organizations.  If propagation of a covered\n",
            "        work results from an entity transaction, each party to that\n",
            "        transaction who receives a copy of the work also receives whatever\n",
            "        licenses to the work the party's predecessor in interest had or could\n",
            "        give under the previous paragraph, plus a right to possession of the\n",
            "        Corresponding Source of the work from the predecessor in interest, if\n",
            "        the predecessor has it or can get it with reasonable efforts.\n",
            "        \n",
            "          You may not impose any further restrictions on the exercise of the\n",
            "        rights granted or affirmed under this License.  For example, you may\n",
            "        not impose a license fee, royalty, or other charge for exercise of\n",
            "        rights granted under this License, and you may not initiate litigation\n",
            "        (including a cross-claim or counterclaim in a lawsuit) alleging that\n",
            "        any patent claim is infringed by making, using, selling, offering for\n",
            "        sale, or importing the Program or any portion of it.\n",
            "        \n",
            "          11. Patents.\n",
            "        \n",
            "          A \"contributor\" is a copyright holder who authorizes use under this\n",
            "        License of the Program or a work on which the Program is based.  The\n",
            "        work thus licensed is called the contributor's \"contributor version\".\n",
            "        \n",
            "          A contributor's \"essential patent claims\" are all patent claims\n",
            "        owned or controlled by the contributor, whether already acquired or\n",
            "        hereafter acquired, that would be infringed by some manner, permitted\n",
            "        by this License, of making, using, or selling its contributor version,\n",
            "        but do not include claims that would be infringed only as a\n",
            "        consequence of further modification of the contributor version.  For\n",
            "        purposes of this definition, \"control\" includes the right to grant\n",
            "        patent sublicenses in a manner consistent with the requirements of\n",
            "        this License.\n",
            "        \n",
            "          Each contributor grants you a non-exclusive, worldwide, royalty-free\n",
            "        patent license under the contributor's essential patent claims, to\n",
            "        make, use, sell, offer for sale, import and otherwise run, modify and\n",
            "        propagate the contents of its contributor version.\n",
            "        \n",
            "          In the following three paragraphs, a \"patent license\" is any express\n",
            "        agreement or commitment, however denominated, not to enforce a patent\n",
            "        (such as an express permission to practice a patent or covenant not to\n",
            "        sue for patent infringement).  To \"grant\" such a patent license to a\n",
            "        party means to make such an agreement or commitment not to enforce a\n",
            "        patent against the party.\n",
            "        \n",
            "          If you convey a covered work, knowingly relying on a patent license,\n",
            "        and the Corresponding Source of the work is not available for anyone\n",
            "        to copy, free of charge and under the terms of this License, through a\n",
            "        publicly available network server or other readily accessible means,\n",
            "        then you must either (1) cause the Corresponding Source to be so\n",
            "        available, or (2) arrange to deprive yourself of the benefit of the\n",
            "        patent license for this particular work, or (3) arrange, in a manner\n",
            "        consistent with the requirements of this License, to extend the patent\n",
            "        license to downstream recipients.  \"Knowingly relying\" means you have\n",
            "        actual knowledge that, but for the patent license, your conveying the\n",
            "        covered work in a country, or your recipient's use of the covered work\n",
            "        in a country, would infringe one or more identifiable patents in that\n",
            "        country that you have reason to believe are valid.\n",
            "        \n",
            "          If, pursuant to or in connection with a single transaction or\n",
            "        arrangement, you convey, or propagate by procuring conveyance of, a\n",
            "        covered work, and grant a patent license to some of the parties\n",
            "        receiving the covered work authorizing them to use, propagate, modify\n",
            "        or convey a specific copy of the covered work, then the patent license\n",
            "        you grant is automatically extended to all recipients of the covered\n",
            "        work and works based on it.\n",
            "        \n",
            "          A patent license is \"discriminatory\" if it does not include within\n",
            "        the scope of its coverage, prohibits the exercise of, or is\n",
            "        conditioned on the non-exercise of one or more of the rights that are\n",
            "        specifically granted under this License.  You may not convey a covered\n",
            "        work if you are a party to an arrangement with a third party that is\n",
            "        in the business of distributing software, under which you make payment\n",
            "        to the third party based on the extent of your activity of conveying\n",
            "        the work, and under which the third party grants, to any of the\n",
            "        parties who would receive the covered work from you, a discriminatory\n",
            "        patent license (a) in connection with copies of the covered work\n",
            "        conveyed by you (or copies made from those copies), or (b) primarily\n",
            "        for and in connection with specific products or compilations that\n",
            "        contain the covered work, unless you entered into that arrangement,\n",
            "        or that patent license was granted, prior to 28 March 2007.\n",
            "        \n",
            "          Nothing in this License shall be construed as excluding or limiting\n",
            "        any implied license or other defenses to infringement that may\n",
            "        otherwise be available to you under applicable patent law.\n",
            "        \n",
            "          12. No Surrender of Others' Freedom.\n",
            "        \n",
            "          If conditions are imposed on you (whether by court order, agreement or\n",
            "        otherwise) that contradict the conditions of this License, they do not\n",
            "        excuse you from the conditions of this License.  If you cannot convey a\n",
            "        covered work so as to satisfy simultaneously your obligations under this\n",
            "        License and any other pertinent obligations, then as a consequence you may\n",
            "        not convey it at all.  For example, if you agree to terms that obligate you\n",
            "        to collect a royalty for further conveying from those to whom you convey\n",
            "        the Program, the only way you could satisfy both those terms and this\n",
            "        License would be to refrain entirely from conveying the Program.\n",
            "        \n",
            "          13. Use with the GNU Affero General Public License.\n",
            "        \n",
            "          Notwithstanding any other provision of this License, you have\n",
            "        permission to link or combine any covered work with a work licensed\n",
            "        under version 3 of the GNU Affero General Public License into a single\n",
            "        combined work, and to convey the resulting work.  The terms of this\n",
            "        License will continue to apply to the part which is the covered work,\n",
            "        but the special requirements of the GNU Affero General Public License,\n",
            "        section 13, concerning interaction through a network will apply to the\n",
            "        combination as such.\n",
            "        \n",
            "          14. Revised Versions of this License.\n",
            "        \n",
            "          The Free Software Foundation may publish revised and/or new versions of\n",
            "        the GNU General Public License from time to time.  Such new versions will\n",
            "        be similar in spirit to the present version, but may differ in detail to\n",
            "        address new problems or concerns.\n",
            "        \n",
            "          Each version is given a distinguishing version number.  If the\n",
            "        Program specifies that a certain numbered version of the GNU General\n",
            "        Public License \"or any later version\" applies to it, you have the\n",
            "        option of following the terms and conditions either of that numbered\n",
            "        version or of any later version published by the Free Software\n",
            "        Foundation.  If the Program does not specify a version number of the\n",
            "        GNU General Public License, you may choose any version ever published\n",
            "        by the Free Software Foundation.\n",
            "        \n",
            "          If the Program specifies that a proxy can decide which future\n",
            "        versions of the GNU General Public License can be used, that proxy's\n",
            "        public statement of acceptance of a version permanently authorizes you\n",
            "        to choose that version for the Program.\n",
            "        \n",
            "          Later license versions may give you additional or different\n",
            "        permissions.  However, no additional obligations are imposed on any\n",
            "        author or copyright holder as a result of your choosing to follow a\n",
            "        later version.\n",
            "        \n",
            "          15. Disclaimer of Warranty.\n",
            "        \n",
            "          THERE IS NO WARRANTY FOR THE PROGRAM, TO THE EXTENT PERMITTED BY\n",
            "        APPLICABLE LAW.  EXCEPT WHEN OTHERWISE STATED IN WRITING THE COPYRIGHT\n",
            "        HOLDERS AND/OR OTHER PARTIES PROVIDE THE PROGRAM \"AS IS\" WITHOUT WARRANTY\n",
            "        OF ANY KIND, EITHER EXPRESSED OR IMPLIED, INCLUDING, BUT NOT LIMITED TO,\n",
            "        THE IMPLIED WARRANTIES OF MERCHANTABILITY AND FITNESS FOR A PARTICULAR\n",
            "        PURPOSE.  THE ENTIRE RISK AS TO THE QUALITY AND PERFORMANCE OF THE PROGRAM\n",
            "        IS WITH YOU.  SHOULD THE PROGRAM PROVE DEFECTIVE, YOU ASSUME THE COST OF\n",
            "        ALL NECESSARY SERVICING, REPAIR OR CORRECTION.\n",
            "        \n",
            "          16. Limitation of Liability.\n",
            "        \n",
            "          IN NO EVENT UNLESS REQUIRED BY APPLICABLE LAW OR AGREED TO IN WRITING\n",
            "        WILL ANY COPYRIGHT HOLDER, OR ANY OTHER PARTY WHO MODIFIES AND/OR CONVEYS\n",
            "        THE PROGRAM AS PERMITTED ABOVE, BE LIABLE TO YOU FOR DAMAGES, INCLUDING ANY\n",
            "        GENERAL, SPECIAL, INCIDENTAL OR CONSEQUENTIAL DAMAGES ARISING OUT OF THE\n",
            "        USE OR INABILITY TO USE THE PROGRAM (INCLUDING BUT NOT LIMITED TO LOSS OF\n",
            "        DATA OR DATA BEING RENDERED INACCURATE OR LOSSES SUSTAINED BY YOU OR THIRD\n",
            "        PARTIES OR A FAILURE OF THE PROGRAM TO OPERATE WITH ANY OTHER PROGRAMS),\n",
            "        EVEN IF SUCH HOLDER OR OTHER PARTY HAS BEEN ADVISED OF THE POSSIBILITY OF\n",
            "        SUCH DAMAGES.\n",
            "        \n",
            "          17. Interpretation of Sections 15 and 16.\n",
            "        \n",
            "          If the disclaimer of warranty and limitation of liability provided\n",
            "        above cannot be given local legal effect according to their terms,\n",
            "        reviewing courts shall apply local law that most closely approximates\n",
            "        an absolute waiver of all civil liability in connection with the\n",
            "        Program, unless a warranty or assumption of liability accompanies a\n",
            "        copy of the Program in return for a fee.\n",
            "        \n",
            "                             END OF TERMS AND CONDITIONS\n",
            "        \n",
            "                    How to Apply These Terms to Your New Programs\n",
            "        \n",
            "          If you develop a new program, and you want it to be of the greatest\n",
            "        possible use to the public, the best way to achieve this is to make it\n",
            "        free software which everyone can redistribute and change under these terms.\n",
            "        \n",
            "          To do so, attach the following notices to the program.  It is safest\n",
            "        to attach them to the start of each source file to most effectively\n",
            "        state the exclusion of warranty; and each file should have at least\n",
            "        the \"copyright\" line and a pointer to where the full notice is found.\n",
            "        \n",
            "            <one line to give the program's name and a brief idea of what it does.>\n",
            "            Copyright (C) <year>  <name of author>\n",
            "        \n",
            "            This program is free software: you can redistribute it and/or modify\n",
            "            it under the terms of the GNU General Public License as published by\n",
            "            the Free Software Foundation, either version 3 of the License, or\n",
            "            (at your option) any later version.\n",
            "        \n",
            "            This program is distributed in the hope that it will be useful,\n",
            "            but WITHOUT ANY WARRANTY; without even the implied warranty of\n",
            "            MERCHANTABILITY or FITNESS FOR A PARTICULAR PURPOSE.  See the\n",
            "            GNU General Public License for more details.\n",
            "        \n",
            "            You should have received a copy of the GNU General Public License\n",
            "            along with this program.  If not, see <http://www.gnu.org/licenses/>.\n",
            "        \n",
            "        Also add information on how to contact you by electronic and paper mail.\n",
            "        \n",
            "          If the program does terminal interaction, make it output a short\n",
            "        notice like this when it starts in an interactive mode:\n",
            "        \n",
            "            <program>  Copyright (C) <year>  <name of author>\n",
            "            This program comes with ABSOLUTELY NO WARRANTY; for details type `show w'.\n",
            "            This is free software, and you are welcome to redistribute it\n",
            "            under certain conditions; type `show c' for details.\n",
            "        \n",
            "        The hypothetical commands `show w' and `show c' should show the appropriate\n",
            "        parts of the General Public License.  Of course, your program's commands\n",
            "        might be different; for a GUI interface, you would use an \"about box\".\n",
            "        \n",
            "          You should also get your employer (if you work as a programmer) or school,\n",
            "        if any, to sign a \"copyright disclaimer\" for the program, if necessary.\n",
            "        For more information on this, and how to apply and follow the GNU GPL, see\n",
            "        <http://www.gnu.org/licenses/>.\n",
            "        \n",
            "          The GNU General Public License does not permit incorporating your program\n",
            "        into proprietary programs.  If your program is a subroutine library, you\n",
            "        may consider it more useful to permit linking proprietary applications with\n",
            "        the library.  If this is what you want to do, use the GNU Lesser General\n",
            "        Public License instead of this License.  But first, please read\n",
            "        <http://www.gnu.org/philosophy/why-not-lgpl.html>.\n",
            "        \n",
            "        Name: libquadmath\n",
            "        Files: numpy.libs/libquadmath*.so\n",
            "        Description: dynamically linked to files compiled with gcc\n",
            "        Availability: https://gcc.gnu.org/git/?p=gcc.git;a=tree;f=libquadmath\n",
            "        License: LGPL-2.1-or-later\n",
            "        \n",
            "            GCC Quad-Precision Math Library\n",
            "            Copyright (C) 2010-2019 Free Software Foundation, Inc.\n",
            "            Written by Francois-Xavier Coudert  <fxcoudert@gcc.gnu.org>\n",
            "        \n",
            "            This file is part of the libquadmath library.\n",
            "            Libquadmath is free software; you can redistribute it and/or\n",
            "            modify it under the terms of the GNU Library General Public\n",
            "            License as published by the Free Software Foundation; either\n",
            "            version 2.1 of the License, or (at your option) any later version.\n",
            "        \n",
            "            Libquadmath is distributed in the hope that it will be useful,\n",
            "            but WITHOUT ANY WARRANTY; without even the implied warranty of\n",
            "            MERCHANTABILITY or FITNESS FOR A PARTICULAR PURPOSE.  See the GNU\n",
            "            Lesser General Public License for more details.\n",
            "            https://www.gnu.org/licenses/old-licenses/lgpl-2.1.html\n",
            "Location: /usr/local/lib/python3.10/dist-packages\n",
            "Requires: \n",
            "Required-by: accelerate, albucore, albumentations, altair, arviz, astropy, autograd, bigframes, blis, bokeh, Bottleneck, bqplot, chex, clarabel, cmdstanpy, contourpy, cudf-cu12, cufflinks, cupy-cuda12x, cvxpy, datascience, db-dtypes, dopamine_rl, ecos, flax, folium, geemap, gensim, geopandas, gym, h5py, holoviews, hyperopt, ibis-framework, imageio, imbalanced-learn, imgaug, jax, jaxlib, keras, librosa, lightgbm, matplotlib, matplotlib-venn, mizani, ml-dtypes, mlxtend, moviepy, music21, nibabel, numba, numexpr, opencv-contrib-python, opencv-python, opencv-python-headless, optax, orbax-checkpoint, osqp, pandas, pandas-gbq, pandas-stubs, patsy, plotnine, prophet, pyarrow, pycocotools, pyerfa, pymc, pyogrio, pytensor, python-louvain, qdldl, rmm-cu12, scikit-image, scikit-learn, scipy, scs, seaborn, shapely, sklearn-pandas, soxr, spacy, stanio, statsmodels, tables, tensorboard, tensorflow, tensorflow-datasets, tensorflow-hub, tensorflow-probability, tensorstore, thinc, tifffile, torchvision, transformers, wordcloud, xarray, xarray-einstats, xgboost, yellowbrick, yfinance\n"
          ]
        }
      ],
      "source": [
        "pip show numpy"
      ]
    },
    {
      "cell_type": "markdown",
      "metadata": {
        "id": "KSNOrnoMHEjD"
      },
      "source": [
        "### 파이썬 오류 확인"
      ]
    },
    {
      "cell_type": "code",
      "execution_count": null,
      "metadata": {
        "id": "B8pmiTi5G8JX",
        "colab": {
          "base_uri": "https://localhost:8080/"
        },
        "outputId": "c1bd1bad-f137-4ada-f4dd-a8b94a795896"
      },
      "outputs": [
        {
          "output_type": "stream",
          "name": "stdout",
          "text": [
            "a < 9\n"
          ]
        }
      ],
      "source": [
        "# Syntax 오류 발생 예\n",
        "a = 1\n",
        "if a < 9\n",
        "    print('a < 9')"
      ]
    },
    {
      "cell_type": "markdown",
      "source": [
        "### 파이썬 예외처리 방법"
      ],
      "metadata": {
        "id": "DJQhC7btE_L5"
      }
    },
    {
      "cell_type": "code",
      "execution_count": null,
      "metadata": {
        "id": "GJ1Y-0wMHXJd"
      },
      "outputs": [],
      "source": [
        "# 오류 예외처리\n",
        "while True:\n",
        "    try:\n",
        "        x = int(input('Please enter a number: '))\n",
        "        break\n",
        "\n",
        "    except ValueError:\n",
        "        print('Oops! That was no valid number. Try again...')\n",
        "\n",
        "print('-----')"
      ]
    },
    {
      "cell_type": "markdown",
      "metadata": {
        "id": "6Ef7gKpD8GGP"
      },
      "source": [
        "### [PC에서만 실행] 수업에 사용할 라이브러리 설치하기\n",
        "- PC 윈도우 명령프롬프트에서 실행한다. 코랩에서는 실행 안함\n",
        "- PC에서는 명령어 맨 앞 '!'를 제거하고 실행한다."
      ]
    },
    {
      "cell_type": "code",
      "source": [
        "!python -m pip install --upgrade pip"
      ],
      "metadata": {
        "id": "ViukrDAGDuPc"
      },
      "execution_count": null,
      "outputs": []
    },
    {
      "cell_type": "code",
      "execution_count": null,
      "metadata": {
        "id": "WnEwfA_x8GGQ"
      },
      "outputs": [],
      "source": [
        "!pip install numpy"
      ]
    },
    {
      "cell_type": "code",
      "execution_count": null,
      "metadata": {
        "id": "ZqJSQDet8GGQ"
      },
      "outputs": [],
      "source": [
        "!pip install pandas"
      ]
    },
    {
      "cell_type": "code",
      "execution_count": null,
      "metadata": {
        "id": "JtYjHD2D8GGQ"
      },
      "outputs": [],
      "source": [
        "!pip install matplotlib"
      ]
    },
    {
      "cell_type": "code",
      "execution_count": null,
      "metadata": {
        "id": "BRSzhspAC6J8"
      },
      "outputs": [],
      "source": [
        "!pip install seaborn"
      ]
    },
    {
      "cell_type": "code",
      "execution_count": null,
      "metadata": {
        "id": "8spH-HIwC6Sz"
      },
      "outputs": [],
      "source": [
        "!pip install ploty"
      ]
    },
    {
      "cell_type": "markdown",
      "metadata": {
        "id": "wl2PYxtB8GGR"
      },
      "source": [
        "----------"
      ]
    },
    {
      "cell_type": "markdown",
      "metadata": {
        "id": "T20_kqnwDKe2"
      },
      "source": [
        "## 2.파이썬 자료형과 연산자"
      ]
    },
    {
      "cell_type": "markdown",
      "source": [
        "### **[자료형]**"
      ],
      "metadata": {
        "id": "rxo68HToTgT0"
      }
    },
    {
      "cell_type": "markdown",
      "metadata": {
        "id": "GPQdotYg8GGR"
      },
      "source": [
        "### 파이썬 자료형 확인"
      ]
    },
    {
      "cell_type": "code",
      "execution_count": null,
      "metadata": {
        "id": "re9ioSIM8GGR"
      },
      "outputs": [],
      "source": [
        "d1 = 123\n",
        "d2 = '123'\n",
        "d3 = [123]\n",
        "d4 = (123,)\n",
        "d5 = {'key':123}\n",
        "d6 = {123}\n",
        "d7 = True\n",
        "\n",
        "print(f\"{d1}의 자료형: {type(d1)}\")\n",
        "print(f'{d2}의 자료형: {type(d2)}')\n",
        "print(f'{d3}의 자료형: {type(d3)}')\n",
        "print(f'{d4}의 자료형: {type(d4)}')\n",
        "print(f'{d5}의 자료형: {type(d5)}')\n",
        "print(f'{d6}의 자료형: {type(d6)}')\n",
        "print(f'{d7}의 자료형: {type(d7)}')"
      ]
    },
    {
      "cell_type": "markdown",
      "source": [
        "### [실습문제] 반복문을 이용하여 자료형 출력하기\n",
        "위 자료형을 아래 미션에 맞게 출력해 보세요."
      ],
      "metadata": {
        "id": "H7bSljnRIERc"
      }
    },
    {
      "cell_type": "code",
      "execution_count": null,
      "metadata": {
        "id": "gbzIvlUi8GGR",
        "scrolled": true,
        "colab": {
          "base_uri": "https://localhost:8080/"
        },
        "outputId": "bb3c3a4a-46cc-439b-8be7-914fa3ac54a2"
      },
      "outputs": [
        {
          "output_type": "stream",
          "name": "stdout",
          "text": [
            "<class 'list'>\n",
            "123 <class 'int'>\n",
            "데이터:123의 자료형은 :<class 'int'>\n",
            "123 <class 'str'>\n",
            "데이터:123의 자료형은 :<class 'str'>\n",
            "[123] <class 'list'>\n",
            "데이터:[123]의 자료형은 :<class 'list'>\n",
            "(123,) <class 'tuple'>\n",
            "데이터:(123,)의 자료형은 :<class 'tuple'>\n",
            "{'key': 123} <class 'dict'>\n",
            "데이터:{'key': 123}의 자료형은 :<class 'dict'>\n",
            "{123} <class 'set'>\n",
            "데이터:{123}의 자료형은 :<class 'set'>\n",
            "True <class 'bool'>\n",
            "데이터:True의 자료형은 :<class 'bool'>\n"
          ]
        }
      ],
      "source": [
        "# [미션] 리스트와 반복문을 이용하여 간단하게 나타내기\n",
        "datas = [123,'123',[123],(123,),{'key':123},{123},True]\n",
        "\n",
        "print(type(datas))\n",
        "\n",
        "for data in datas :\n",
        "    print(data, type(data))\n",
        "    print(f'데이터:{data}의 자료형은 :{type(data)}')\n",
        "\n",
        "\n",
        "\n"
      ]
    },
    {
      "cell_type": "code",
      "source": [
        "if isinstance(123, int):\n",
        "    print('123은 정수')\n",
        "else :\n",
        "    print('123은 정수가 아니야')"
      ],
      "metadata": {
        "id": "t-8I2-3299ss"
      },
      "execution_count": null,
      "outputs": []
    },
    {
      "cell_type": "code",
      "source": [
        "# [미션] isinstance()함수를 이용하여 데이터 타입 확인\n",
        "def get_datatype(data):\n",
        "    instance= {int:'정수', float:'실수', str:'문자열', bool:'불린',\n",
        "           list:'리스트', tuple:'튜플', dict:'딕셔너리', set:'집합' }\n",
        "    for key, value in instance.items():\n",
        "        if isinstance(data, key):\n",
        "            print(f'{data}는 {value} 형입니다.')\n",
        "\n",
        "for data in datas:\n",
        "    get_datatype(data)"
      ],
      "metadata": {
        "id": "PMDfoepfF7K4"
      },
      "execution_count": null,
      "outputs": []
    },
    {
      "cell_type": "markdown",
      "source": [
        "### [표준입출력]"
      ],
      "metadata": {
        "id": "Qv7p8JOYJdMf"
      }
    },
    {
      "cell_type": "markdown",
      "metadata": {
        "id": "EDFiaZyv8GGR"
      },
      "source": [
        "### 실습문제\n",
        "두 수를 입력 받아 덧셈, 뺄셈, 곱셈, 몫, 나머지를 출력하는 프로그램을 작성하세요\n"
      ]
    },
    {
      "cell_type": "code",
      "execution_count": null,
      "metadata": {
        "id": "a9sG7Q738GGS",
        "scrolled": true,
        "colab": {
          "base_uri": "https://localhost:8080/",
          "height": 397
        },
        "outputId": "c6b4e37b-3db0-43d6-dcfb-e466783fd8f8"
      },
      "outputs": [
        {
          "output_type": "error",
          "ename": "KeyboardInterrupt",
          "evalue": "Interrupted by user",
          "traceback": [
            "\u001b[0;31m---------------------------------------------------------------------------\u001b[0m",
            "\u001b[0;31mKeyboardInterrupt\u001b[0m                         Traceback (most recent call last)",
            "\u001b[0;32m<ipython-input-24-b6c83961530a>\u001b[0m in \u001b[0;36m<cell line: 1>\u001b[0;34m()\u001b[0m\n\u001b[0;32m----> 1\u001b[0;31m \u001b[0mnum1\u001b[0m \u001b[0;34m=\u001b[0m \u001b[0minput\u001b[0m\u001b[0;34m(\u001b[0m\u001b[0;34m'첫번째 숫자: '\u001b[0m\u001b[0;34m)\u001b[0m\u001b[0;34m\u001b[0m\u001b[0;34m\u001b[0m\u001b[0m\n\u001b[0m\u001b[1;32m      2\u001b[0m \u001b[0mnum2\u001b[0m \u001b[0;34m=\u001b[0m \u001b[0minput\u001b[0m\u001b[0;34m(\u001b[0m\u001b[0;34m'두번째 숫자: '\u001b[0m\u001b[0;34m)\u001b[0m\u001b[0;34m\u001b[0m\u001b[0;34m\u001b[0m\u001b[0m\n\u001b[1;32m      3\u001b[0m \u001b[0;34m\u001b[0m\u001b[0m\n\u001b[1;32m      4\u001b[0m \u001b[0mprint\u001b[0m\u001b[0;34m(\u001b[0m\u001b[0;34mf'첫번째 숫자: {num1}'\u001b[0m\u001b[0;34m)\u001b[0m\u001b[0;34m\u001b[0m\u001b[0;34m\u001b[0m\u001b[0m\n\u001b[1;32m      5\u001b[0m \u001b[0mprint\u001b[0m\u001b[0;34m(\u001b[0m\u001b[0;34mf'두번째 숫자: {num2}'\u001b[0m\u001b[0;34m)\u001b[0m\u001b[0;34m\u001b[0m\u001b[0;34m\u001b[0m\u001b[0m\n",
            "\u001b[0;32m/usr/local/lib/python3.10/dist-packages/ipykernel/kernelbase.py\u001b[0m in \u001b[0;36mraw_input\u001b[0;34m(self, prompt)\u001b[0m\n\u001b[1;32m    849\u001b[0m                 \u001b[0;34m\"raw_input was called, but this frontend does not support input requests.\"\u001b[0m\u001b[0;34m\u001b[0m\u001b[0;34m\u001b[0m\u001b[0m\n\u001b[1;32m    850\u001b[0m             )\n\u001b[0;32m--> 851\u001b[0;31m         return self._input_request(str(prompt),\n\u001b[0m\u001b[1;32m    852\u001b[0m             \u001b[0mself\u001b[0m\u001b[0;34m.\u001b[0m\u001b[0m_parent_ident\u001b[0m\u001b[0;34m,\u001b[0m\u001b[0;34m\u001b[0m\u001b[0;34m\u001b[0m\u001b[0m\n\u001b[1;32m    853\u001b[0m             \u001b[0mself\u001b[0m\u001b[0;34m.\u001b[0m\u001b[0m_parent_header\u001b[0m\u001b[0;34m,\u001b[0m\u001b[0;34m\u001b[0m\u001b[0;34m\u001b[0m\u001b[0m\n",
            "\u001b[0;32m/usr/local/lib/python3.10/dist-packages/ipykernel/kernelbase.py\u001b[0m in \u001b[0;36m_input_request\u001b[0;34m(self, prompt, ident, parent, password)\u001b[0m\n\u001b[1;32m    893\u001b[0m             \u001b[0;32mexcept\u001b[0m \u001b[0mKeyboardInterrupt\u001b[0m\u001b[0;34m:\u001b[0m\u001b[0;34m\u001b[0m\u001b[0;34m\u001b[0m\u001b[0m\n\u001b[1;32m    894\u001b[0m                 \u001b[0;31m# re-raise KeyboardInterrupt, to truncate traceback\u001b[0m\u001b[0;34m\u001b[0m\u001b[0;34m\u001b[0m\u001b[0m\n\u001b[0;32m--> 895\u001b[0;31m                 \u001b[0;32mraise\u001b[0m \u001b[0mKeyboardInterrupt\u001b[0m\u001b[0;34m(\u001b[0m\u001b[0;34m\"Interrupted by user\"\u001b[0m\u001b[0;34m)\u001b[0m \u001b[0;32mfrom\u001b[0m \u001b[0;32mNone\u001b[0m\u001b[0;34m\u001b[0m\u001b[0;34m\u001b[0m\u001b[0m\n\u001b[0m\u001b[1;32m    896\u001b[0m             \u001b[0;32mexcept\u001b[0m \u001b[0mException\u001b[0m \u001b[0;32mas\u001b[0m \u001b[0me\u001b[0m\u001b[0;34m:\u001b[0m\u001b[0;34m\u001b[0m\u001b[0;34m\u001b[0m\u001b[0m\n\u001b[1;32m    897\u001b[0m                 \u001b[0mself\u001b[0m\u001b[0;34m.\u001b[0m\u001b[0mlog\u001b[0m\u001b[0;34m.\u001b[0m\u001b[0mwarning\u001b[0m\u001b[0;34m(\u001b[0m\u001b[0;34m\"Invalid Message:\"\u001b[0m\u001b[0;34m,\u001b[0m \u001b[0mexc_info\u001b[0m\u001b[0;34m=\u001b[0m\u001b[0;32mTrue\u001b[0m\u001b[0;34m)\u001b[0m\u001b[0;34m\u001b[0m\u001b[0;34m\u001b[0m\u001b[0m\n",
            "\u001b[0;31mKeyboardInterrupt\u001b[0m: Interrupted by user"
          ]
        }
      ],
      "source": [
        "num1 = input('첫번째 숫자: ')\n",
        "num2 = input('두번째 숫자: ')\n",
        "\n",
        "\n",
        "print('-'*30)\n",
        "\n",
        "print (f'덧셈:{num1}+{num2} = {int(num1)+int(num2)} ')\n",
        "print (f'뺄셈:{num1}-{num2} ={int(num1)-int(num2)} ')\n",
        "print (f'곱셈:{num1}*{num2} ={int(num1)*int(num2)} ')\n",
        "print (f'몫:{num1}//{num2} ={int(num1)//int(num2)} ')\n",
        "print (f'나머지:{num1}%{num2} ={int(num1)%int(num2)} ')\n",
        "\n",
        "\n"
      ]
    },
    {
      "cell_type": "markdown",
      "metadata": {
        "id": "LqAbyRHs8GGS"
      },
      "source": [
        "### 실습문제: 시간 계산 프로그램\n",
        "속력과 거리를 입력 받아 시간을 계산하여 출력하는 프로그램을 만드세요!\n",
        "- 시간 = 거리 / 속력\n",
        "\n"
      ]
    },
    {
      "cell_type": "code",
      "execution_count": null,
      "metadata": {
        "id": "YwepfYt98GGS",
        "colab": {
          "base_uri": "https://localhost:8080/"
        },
        "outputId": "45410fc8-8d38-43a8-b18d-38d40f2bfa28"
      },
      "outputs": [
        {
          "output_type": "stream",
          "name": "stdout",
          "text": [
            "속력를 입력해 주세요(km/h) : 100\n",
            "거리를 입력해 주세요(km) : 100\n",
            "시간은1\n"
          ]
        }
      ],
      "source": [
        "velocity = input('속력를 입력해 주세요(km/h) : ')\n",
        "distance = input('거리를 입력해 주세요(km) : ')\n",
        "\n",
        "time = int(distance) // int(velocity)\n",
        "print(f'시간은{time}')\n",
        "\n",
        "\n",
        "\n",
        "# eval 함수 int로 변환안해도 사용가능"
      ]
    },
    {
      "cell_type": "markdown",
      "metadata": {
        "id": "sHIxGA0xLj0C"
      },
      "source": [
        "- eval()함수 사용하여 문자열을 계산할 수 있다"
      ]
    },
    {
      "cell_type": "code",
      "source": [
        "eval('30+50')"
      ],
      "metadata": {
        "colab": {
          "base_uri": "https://localhost:8080/"
        },
        "id": "TF9NoFynDdZN",
        "outputId": "6255b9da-39c6-4a1d-870e-afa12ef4ab4c"
      },
      "execution_count": null,
      "outputs": [
        {
          "output_type": "execute_result",
          "data": {
            "text/plain": [
              "80"
            ]
          },
          "metadata": {},
          "execution_count": 25
        }
      ]
    },
    {
      "cell_type": "code",
      "execution_count": null,
      "metadata": {
        "id": "gvVxuLjX8GGS"
      },
      "outputs": [],
      "source": [
        "# eval()함수 사용\n",
        "time = eval(f'{distance} / {velocity}')\n",
        "print(time)"
      ]
    },
    {
      "cell_type": "markdown",
      "source": [],
      "metadata": {
        "id": "DninFvPJFQV6"
      }
    },
    {
      "cell_type": "markdown",
      "metadata": {
        "id": "tECEWKan8GGS"
      },
      "source": [
        "### 실습문제 : 정수 합 구하기\n",
        "아래와 같이 정수 n을 입력 받아, a + aa + aaa의 결과 값을 구하는 프로그램을 작성하세요"
      ]
    },
    {
      "cell_type": "code",
      "execution_count": null,
      "metadata": {
        "id": "a04GPnn98GGS",
        "scrolled": true,
        "colab": {
          "base_uri": "https://localhost:8080/"
        },
        "outputId": "e80a2e7a-ba70-43e8-c918-2f699773150a"
      },
      "outputs": [
        {
          "output_type": "stream",
          "name": "stdout",
          "text": [
            "정수를 입력하세요7\n",
            "7+77+777=861\n"
          ]
        }
      ],
      "source": [
        "\n",
        "a = int(input('정수를 입력하세요'))\n",
        "b = f'{a}+{a}{a}+{a}{a}{a}'\n",
        "print(f'{b}={eval(b)}')\n",
        "\n"
      ]
    },
    {
      "cell_type": "markdown",
      "source": [
        "### [문자와 문자열]"
      ],
      "metadata": {
        "id": "SHkqIiXbJXrR"
      }
    },
    {
      "cell_type": "markdown",
      "source": [
        "### 실습문제 : 문자열 거꾸로 출력하기"
      ],
      "metadata": {
        "id": "kc4LrgAHJw4f"
      }
    },
    {
      "cell_type": "code",
      "source": [
        "\n",
        "s = input(\"문자열을 입력하세요\")\n",
        "print(s[::-1]) #[start:end: step] start <= index < end\n"
      ],
      "metadata": {
        "id": "_QpSs-GCJvyH",
        "colab": {
          "base_uri": "https://localhost:8080/"
        },
        "outputId": "061efb84-0a1b-4a8e-ba1f-aa724e77b2b2"
      },
      "execution_count": null,
      "outputs": [
        {
          "output_type": "stream",
          "name": "stdout",
          "text": [
            "문자열을 입력하세요안녕하세요\n",
            "요세하녕안\n"
          ]
        }
      ]
    },
    {
      "cell_type": "markdown",
      "source": [
        "### 실습문제: 간단 챗봇 만들기\n"
      ],
      "metadata": {
        "id": "t1KHQyvnJrj3"
      }
    },
    {
      "cell_type": "code",
      "source": [
        "# 간단한 챗봇 만들기\n",
        "print('안녕하세요~')\n",
        "name= input(\"당신의 이름은 뭐예요 ?\")\n",
        "print(f'만나서 반갑습니다. {name}님')\n",
        "print(f'{name}님의 이름의 길이는 다음과 같습니다: {len(name)}')\n",
        "age= input(\"당신의 나이가 어떻게 되나요?\")\n",
        "print(f'내년에는 {int(age)+1}가 되시는군요')\n",
        "\n",
        "\n",
        "\n"
      ],
      "metadata": {
        "id": "Fg-QYkDPJr14",
        "colab": {
          "base_uri": "https://localhost:8080/"
        },
        "outputId": "87b26b4e-cce7-4d01-9f1d-3e98454c673c"
      },
      "execution_count": null,
      "outputs": [
        {
          "output_type": "stream",
          "name": "stdout",
          "text": [
            "안녕하세요~\n",
            "당신의 이름은 뭐예요 ?ㅇㅇㅇ\n",
            "만나서 반갑습니다. ㅇㅇㅇ님\n",
            "ㅇㅇㅇ님의 이름의 길이는 다음과 같습니다: 3\n",
            "당신의 나이가 어떻게 되나요?3\n",
            "내년에는 4가 되시는군요\n"
          ]
        }
      ]
    },
    {
      "cell_type": "markdown",
      "metadata": {
        "id": "Hb6l5EjLQB2m"
      },
      "source": [
        "### 실습문제 :  구글TTS(gTTS) 사용하여 음성 출력하기\n",
        "TTS : Text to Speech"
      ]
    },
    {
      "cell_type": "markdown",
      "source": [],
      "metadata": {
        "id": "MKZzJ2iCMu9b"
      }
    },
    {
      "cell_type": "code",
      "execution_count": null,
      "metadata": {
        "id": "-eY--f6MPwTf",
        "colab": {
          "base_uri": "https://localhost:8080/"
        },
        "outputId": "a44619d5-b797-4fb4-fd2b-ab1d20705876"
      },
      "outputs": [
        {
          "output_type": "stream",
          "name": "stdout",
          "text": [
            "Collecting gTTS\n",
            "  Downloading gTTS-2.5.3-py3-none-any.whl.metadata (4.1 kB)\n",
            "Requirement already satisfied: requests<3,>=2.27 in /usr/local/lib/python3.10/dist-packages (from gTTS) (2.32.3)\n",
            "Requirement already satisfied: click<8.2,>=7.1 in /usr/local/lib/python3.10/dist-packages (from gTTS) (8.1.7)\n",
            "Requirement already satisfied: charset-normalizer<4,>=2 in /usr/local/lib/python3.10/dist-packages (from requests<3,>=2.27->gTTS) (3.3.2)\n",
            "Requirement already satisfied: idna<4,>=2.5 in /usr/local/lib/python3.10/dist-packages (from requests<3,>=2.27->gTTS) (3.10)\n",
            "Requirement already satisfied: urllib3<3,>=1.21.1 in /usr/local/lib/python3.10/dist-packages (from requests<3,>=2.27->gTTS) (2.2.3)\n",
            "Requirement already satisfied: certifi>=2017.4.17 in /usr/local/lib/python3.10/dist-packages (from requests<3,>=2.27->gTTS) (2024.8.30)\n",
            "Downloading gTTS-2.5.3-py3-none-any.whl (29 kB)\n",
            "Installing collected packages: gTTS\n",
            "Successfully installed gTTS-2.5.3\n"
          ]
        }
      ],
      "source": [
        "# 구글 tts 프로그램\n",
        "!pip install gTTS"
      ]
    },
    {
      "cell_type": "code",
      "execution_count": null,
      "metadata": {
        "id": "O_xqpl0pPx6k",
        "colab": {
          "base_uri": "https://localhost:8080/",
          "height": 74
        },
        "outputId": "e9ddf401-1ef7-4390-9060-3deddb918ae5"
      },
      "outputs": [
        {
          "output_type": "display_data",
          "data": {
            "text/plain": [
              "<IPython.lib.display.Audio object>"
            ],
            "text/html": [
              "\n",
              "                <audio  controls=\"controls\" autoplay=\"autoplay\">\n",
              "                    <source src=\"data:audio/x-wav;base64,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\" type=\"audio/x-wav\" />\n",
              "                    Your browser does not support the audio element.\n",
              "                </audio>\n",
              "              "
            ]
          },
          "metadata": {}
        }
      ],
      "source": [
        "# 영어 출력\n",
        "from gtts import gTTS\n",
        "from IPython.display import Audio\n",
        "\n",
        "eng_wav = gTTS('Hello World!')\n",
        "eng_wav.save('eng.wav')\n",
        "\n",
        "display(Audio('eng.wav', autoplay=True))"
      ]
    },
    {
      "cell_type": "code",
      "source": [
        "!pip install pyttsx3"
      ],
      "metadata": {
        "id": "GNDyb4C-ZohQ"
      },
      "execution_count": null,
      "outputs": []
    },
    {
      "cell_type": "code",
      "execution_count": null,
      "metadata": {
        "id": "inyZATWlP3Cp"
      },
      "outputs": [],
      "source": [
        "# 한글 출력\n",
        "from gtts import gTTS\n",
        "from IPython.display import Audio\n",
        "\n",
        "kor_wav = gTTS('안녕하세요! ', lang = 'ko')\n",
        "kor_wav.save('kor.wav')\n",
        "\n",
        "display(Audio('kor.wav', autoplay=True))"
      ]
    },
    {
      "cell_type": "code",
      "source": [
        "from gtts import gTTS\n",
        "from IPython.display import Audio, display\n",
        "import os\n",
        "import time\n",
        "\n",
        "def text_to_speech_from_file(filename):\n",
        "    with open(filename, 'r', encoding='utf-8') as file:\n",
        "\n",
        "        for index, line in enumerate(file): #enumerate 함수\n",
        "            line = line.strip()\n",
        "            if line:  # 빈 줄은 건너뜀\n",
        "                # 텍스트를 음성으로 변환\n",
        "                tts = gTTS(text=line, lang='ko')\n",
        "                audio_file = f\"temp_audio_{index}.mp3\"\n",
        "\n",
        "                # 음성 파일 저장\n",
        "                tts.save(audio_file)\n",
        "\n",
        "                # 음성 파일을 재생 (IPython.display.Audio 사용)\n",
        "                display(Audio(audio_file, autoplay=True))\n",
        "\n",
        "                # 음성이 끝날 때까지 잠시 대기\n",
        "                if len(line) > 12:\n",
        "                    sleep_time =3\n",
        "                else :\n",
        "                    sleep_time =2\n",
        "                time.sleep(sleep_time)  # 음성 길이에 따라 조절 가능\n",
        "\n",
        "                # 파일 삭제\n",
        "                os.remove(audio_file)\n",
        "\n",
        "                if index > 10 :\n",
        "                    break\n",
        "\n",
        "# 텍스트 파일 경로를 지정하세요.\n",
        "text_to_speech_from_file('사건의지평선.txt')\n"
      ],
      "metadata": {
        "id": "VdNYWRldOWow",
        "colab": {
          "base_uri": "https://localhost:8080/",
          "height": 657
        },
        "outputId": "72adc0a6-ac10-4cd9-985a-5dfc37f0640f"
      },
      "execution_count": null,
      "outputs": [
        {
          "output_type": "display_data",
          "data": {
            "text/plain": [
              "<IPython.lib.display.Audio object>"
            ],
            "text/html": [
              "\n",
              "                <audio  controls=\"controls\" autoplay=\"autoplay\">\n",
              "                    <source src=\"data:audio/mpeg;base64,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\" type=\"audio/mpeg\" />\n",
              "                    Your browser does not support the audio element.\n",
              "                </audio>\n",
              "              "
            ]
          },
          "metadata": {}
        },
        {
          "output_type": "display_data",
          "data": {
            "text/plain": [
              "<IPython.lib.display.Audio object>"
            ],
            "text/html": [
              "\n",
              "                <audio  controls=\"controls\" autoplay=\"autoplay\">\n",
              "                    <source src=\"data:audio/mpeg;base64,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\" type=\"audio/mpeg\" />\n",
              "                    Your browser does not support the audio element.\n",
              "                </audio>\n",
              "              "
            ]
          },
          "metadata": {}
        },
        {
          "output_type": "display_data",
          "data": {
            "text/plain": [
              "<IPython.lib.display.Audio object>"
            ],
            "text/html": [
              "\n",
              "                <audio  controls=\"controls\" autoplay=\"autoplay\">\n",
              "                    <source src=\"data:audio/mpeg;base64,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\" type=\"audio/mpeg\" />\n",
              "                    Your browser does not support the audio element.\n",
              "                </audio>\n",
              "              "
            ]
          },
          "metadata": {}
        },
        {
          "output_type": "display_data",
          "data": {
            "text/plain": [
              "<IPython.lib.display.Audio object>"
            ],
            "text/html": [
              "\n",
              "                <audio  controls=\"controls\" autoplay=\"autoplay\">\n",
              "                    <source src=\"data:audio/mpeg;base64,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\" type=\"audio/mpeg\" />\n",
              "                    Your browser does not support the audio element.\n",
              "                </audio>\n",
              "              "
            ]
          },
          "metadata": {}
        },
        {
          "output_type": "display_data",
          "data": {
            "text/plain": [
              "<IPython.lib.display.Audio object>"
            ],
            "text/html": [
              "\n",
              "                <audio  controls=\"controls\" autoplay=\"autoplay\">\n",
              "                    <source src=\"data:audio/mpeg;base64,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\" type=\"audio/mpeg\" />\n",
              "                    Your browser does not support the audio element.\n",
              "                </audio>\n",
              "              "
            ]
          },
          "metadata": {}
        },
        {
          "output_type": "display_data",
          "data": {
            "text/plain": [
              "<IPython.lib.display.Audio object>"
            ],
            "text/html": [
              "\n",
              "                <audio  controls=\"controls\" autoplay=\"autoplay\">\n",
              "                    <source src=\"data:audio/mpeg;base64,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\" type=\"audio/mpeg\" />\n",
              "                    Your browser does not support the audio element.\n",
              "                </audio>\n",
              "              "
            ]
          },
          "metadata": {}
        },
        {
          "output_type": "error",
          "ename": "KeyboardInterrupt",
          "evalue": "",
          "traceback": [
            "\u001b[0;31m---------------------------------------------------------------------------\u001b[0m",
            "\u001b[0;31mKeyboardInterrupt\u001b[0m                         Traceback (most recent call last)",
            "\u001b[0;32m<ipython-input-49-761d5a5b37e8>\u001b[0m in \u001b[0;36m<cell line: 36>\u001b[0;34m()\u001b[0m\n\u001b[1;32m     34\u001b[0m \u001b[0;34m\u001b[0m\u001b[0m\n\u001b[1;32m     35\u001b[0m \u001b[0;31m# 텍스트 파일 경로를 지정하세요.\u001b[0m\u001b[0;34m\u001b[0m\u001b[0;34m\u001b[0m\u001b[0m\n\u001b[0;32m---> 36\u001b[0;31m \u001b[0mtext_to_speech_from_file\u001b[0m\u001b[0;34m(\u001b[0m\u001b[0;34m'사건의지평선.txt'\u001b[0m\u001b[0;34m)\u001b[0m\u001b[0;34m\u001b[0m\u001b[0;34m\u001b[0m\u001b[0m\n\u001b[0m",
            "\u001b[0;32m<ipython-input-49-761d5a5b37e8>\u001b[0m in \u001b[0;36mtext_to_speech_from_file\u001b[0;34m(filename)\u001b[0m\n\u001b[1;32m     25\u001b[0m                 \u001b[0;32melse\u001b[0m \u001b[0;34m:\u001b[0m\u001b[0;34m\u001b[0m\u001b[0;34m\u001b[0m\u001b[0m\n\u001b[1;32m     26\u001b[0m                     \u001b[0msleep_time\u001b[0m \u001b[0;34m=\u001b[0m\u001b[0;36m2\u001b[0m\u001b[0;34m\u001b[0m\u001b[0;34m\u001b[0m\u001b[0m\n\u001b[0;32m---> 27\u001b[0;31m                 \u001b[0mtime\u001b[0m\u001b[0;34m.\u001b[0m\u001b[0msleep\u001b[0m\u001b[0;34m(\u001b[0m\u001b[0msleep_time\u001b[0m\u001b[0;34m)\u001b[0m  \u001b[0;31m# 음성 길이에 따라 조절 가능\u001b[0m\u001b[0;34m\u001b[0m\u001b[0;34m\u001b[0m\u001b[0m\n\u001b[0m\u001b[1;32m     28\u001b[0m \u001b[0;34m\u001b[0m\u001b[0m\n\u001b[1;32m     29\u001b[0m                 \u001b[0;31m# 파일 삭제\u001b[0m\u001b[0;34m\u001b[0m\u001b[0;34m\u001b[0m\u001b[0m\n",
            "\u001b[0;31mKeyboardInterrupt\u001b[0m: "
          ]
        }
      ]
    },
    {
      "cell_type": "markdown",
      "metadata": {
        "id": "3UTLuSAp8GGY"
      },
      "source": [
        "--------"
      ]
    },
    {
      "cell_type": "markdown",
      "metadata": {
        "id": "fmU7O8WS8GGY"
      },
      "source": [
        "### **[연산자]**"
      ]
    },
    {
      "cell_type": "markdown",
      "metadata": {
        "id": "eRCyhgwS8GGY"
      },
      "source": [
        "### 실습문제 :  동전 교환 프로그램\n",
        "동전교환 프로그램을 작성하세요"
      ]
    },
    {
      "cell_type": "code",
      "execution_count": null,
      "metadata": {
        "id": "g8A7ErL78GGY",
        "colab": {
          "base_uri": "https://localhost:8080/"
        },
        "outputId": "b5b9be42-e1a0-4437-fe3f-82bfa0f1b35a"
      },
      "outputs": [
        {
          "output_type": "stream",
          "name": "stdout",
          "text": [
            "---동전교환기 프로그램을 작동합니다.---\n",
            "금액을 입력하세요: 5200\n",
            "500원짜리 : 10 개\n",
            "100원짜리 : 2 개\n",
            "10원짜리 : 0 개\n",
            "잔돈은 : 0 개\n"
          ]
        }
      ],
      "source": [
        "# 키보드로부터 금액 입력 받기\n",
        "print('---동전교환기 프로그램을 작동합니다.---')\n",
        "money = int( input('금액을 입력하세요: '))\n",
        "\n",
        "print(f'500원짜리 : {money//500} 개')\n",
        "money = money % 500\n",
        "print(f'100원짜리 : {money//100} 개')\n",
        "money = money % 100\n",
        "print(f'10원짜리 : {money//10} 개')\n",
        "money = money % 10\n",
        "print(f'잔돈은 : {money} 개')\n",
        "\n",
        "\n",
        "\n"
      ]
    },
    {
      "cell_type": "code",
      "source": [
        "# 동전교환기 코드 줄이기\n",
        "\n",
        "# 키보드로부터 금액 입력 받기\n",
        "print('---동전교환기 프로그램을 작동합니다.---')\n",
        "money = int( input('금액을 입력하세요: '))\n",
        "coins = [500, 100, 50, 10]\n",
        "for coin in coins :\n",
        "    print(f'{coin}원 짜리 : {money//coin}개')\n",
        "    money = money % coin\n",
        "print(f'잔돈 : {money}원')"
      ],
      "metadata": {
        "colab": {
          "base_uri": "https://localhost:8080/"
        },
        "id": "Op3La--9j2bF",
        "outputId": "36a717c3-fe0d-4e5a-c2f0-fe3d4f569257"
      },
      "execution_count": null,
      "outputs": [
        {
          "output_type": "stream",
          "name": "stdout",
          "text": [
            "---동전교환기 프로그램을 작동합니다.---\n",
            "금액을 입력하세요: 5200\n",
            "500원 짜리 : 10개\n",
            "100원 짜리 : 2개\n",
            "50원 짜리 : 0개\n",
            "10원 짜리 : 0개\n",
            "잔돈 : 0원\n"
          ]
        }
      ]
    },
    {
      "cell_type": "markdown",
      "source": [
        "### 실습문제 : 비교 연산자를 이용한 상품 필터링하기\n",
        "아래 상품 딕셔너리에서 가격이 1000 이하인 상품을 필터링하고 상품과 해당 가격을 출력하시오."
      ],
      "metadata": {
        "id": "7GL-zafcQwDq"
      }
    },
    {
      "cell_type": "code",
      "source": [
        "# 상품 가격을 가진 사전\n",
        "products = { \"apple\": 1000, \"banana\": 800, \"cherry\": 1500,\n",
        "            \"date\": 1200, \"elderberry\": 2000 }\n",
        "\n",
        "# 가격이 1000 이하인 상품 필터링\\\n",
        "\n",
        "print(\"가격이 1000 이하인 상품 :\")\n",
        "print(\"*\"*30)\n",
        "\n",
        "for key, value in products.items():\n",
        "    if value <=1000 :\n",
        "        print(f'상품명: {key} 가격: {value}')\n",
        "\n",
        "\n",
        "\n",
        "\n"
      ],
      "metadata": {
        "id": "78IAx7VkQwW_",
        "colab": {
          "base_uri": "https://localhost:8080/"
        },
        "outputId": "21757502-7827-4fc6-9ed8-c39cd9b9ccdf"
      },
      "execution_count": null,
      "outputs": [
        {
          "output_type": "stream",
          "name": "stdout",
          "text": [
            "가격이 1000 이하인 상품 :\n",
            "******************************\n",
            "상품명: apple 가격: 1000\n",
            "상품명: banana 가격: 800\n"
          ]
        }
      ]
    },
    {
      "cell_type": "markdown",
      "metadata": {
        "id": "0SWp1LN08GGY"
      },
      "source": [
        "------"
      ]
    },
    {
      "cell_type": "markdown",
      "metadata": {
        "id": "x4FIhV_y8GGZ"
      },
      "source": [
        "## 3.조건문과 반목문으로 흐름 제어하기"
      ]
    },
    {
      "cell_type": "markdown",
      "metadata": {
        "id": "LPe_skHf8GGZ"
      },
      "source": [
        "### **[조건문]**"
      ]
    },
    {
      "cell_type": "markdown",
      "source": [
        "#### 조건문 구조 4개"
      ],
      "metadata": {
        "id": "HIFAD_kqX1uL"
      }
    },
    {
      "cell_type": "code",
      "source": [
        "# 조건식1: if 조건식\n",
        "a = 99\n",
        "if a < 100 :\n",
        "    print('a는 100보다 작군요')"
      ],
      "metadata": {
        "id": "d9jDMOjbX4hu"
      },
      "execution_count": null,
      "outputs": []
    },
    {
      "cell_type": "code",
      "source": [
        "# 조건식2: if ~ else\n",
        "a = 200\n",
        "if a > 100:\n",
        "    print('a는 100보다 크군요')\n",
        "else:\n",
        "    print('a는 100보다 크지 않군요')"
      ],
      "metadata": {
        "id": "9ehdd_YIYEus"
      },
      "execution_count": null,
      "outputs": []
    },
    {
      "cell_type": "code",
      "source": [
        "# 조건문3: 중첩 if - 조건문 안에 조건문\n",
        "a = 200\n",
        "if a > 100:\n",
        "    if a > 200 :\n",
        "        print('a는 200보다 크군요')\n",
        "    else:\n",
        "        print('a는 200보다 크거나 같군요')\n",
        "else:\n",
        "    print('a는 100보다 크지 않군요')"
      ],
      "metadata": {
        "id": "nOi_cwzoYE2u"
      },
      "execution_count": null,
      "outputs": []
    },
    {
      "cell_type": "code",
      "source": [
        "# 조건문4: 다중 조건문\n",
        "pocket = ['paper', 'handphone']\n",
        "card = True\n",
        "\n",
        "if 'money' in pocket:\n",
        "    print('택시를 타고 가라')\n",
        "elif card:\n",
        "    print('택시를 타고 가라')\n",
        "else:\n",
        "    print('걸어가라')"
      ],
      "metadata": {
        "id": "T_P0EQFeYFBE"
      },
      "execution_count": null,
      "outputs": []
    },
    {
      "cell_type": "markdown",
      "metadata": {
        "id": "Io13oQKLhgph"
      },
      "source": [
        "#### 조건부 표현식"
      ]
    },
    {
      "cell_type": "code",
      "execution_count": null,
      "metadata": {
        "id": "h0V6WqWchnTA"
      },
      "outputs": [],
      "source": [
        "score = int(input('점수를 입력하세요: '))\n",
        "message = \"success!\" if score >=60 else \"failure!\"\n",
        "print(message)"
      ]
    },
    {
      "cell_type": "markdown",
      "metadata": {
        "id": "Ar6JKwtB8GGZ"
      },
      "source": [
        "#### 실습문제 : 짝수 홀수 판별하기\n",
        "숫자를 입력 받아 짝수/홀수를 판별하는 코드를 만들어 보세요."
      ]
    },
    {
      "cell_type": "code",
      "execution_count": null,
      "metadata": {
        "id": "09w2BCcN8GGZ",
        "colab": {
          "base_uri": "https://localhost:8080/"
        },
        "outputId": "43db3dfc-bb9c-4ef0-f1dc-120637c72b83"
      },
      "outputs": [
        {
          "output_type": "stream",
          "name": "stdout",
          "text": [
            "숫자를 입력해 주세요: 5\n",
            "홀수입니다\n"
          ]
        }
      ],
      "source": [
        "x = int(input('숫자를 입력해 주세요: '))\n",
        "\n",
        "if  x % 2 == 0:\n",
        "    print(\"짝수입니다\")\n",
        "else :\n",
        "    print(\"홀수입니다\")\n",
        "\n",
        "\n",
        "    #print(\"짝수\") if x % 2 == 0 else print(\"홀수\")\n"
      ]
    },
    {
      "cell_type": "markdown",
      "metadata": {
        "id": "3SDdg7Aeg7MW"
      },
      "source": [
        "### 실습문제 : 커피 자판기 조건문\n",
        "아래 조건을 만족하는 커피 자동주문 머신을 만들어보세요.<br><br>\n",
        "[커피 자동주문 머신]<br>\n",
        "친구들과 현금 커피 자동주문 머신 앞에서\n",
        " - 아메리카노 2잔과 카페라테 2잔 카푸치노 1잔을 주문하였다.\n",
        " - 아메리카노 한잔에 2500원이고\n",
        " - 카페라테는 한잔에 3000원\n",
        " - 카푸치노는 한잔에 3000원이다.\n",
        "커피 종류와 잔 수를 결정한 후 현금 15000원을 투입하고 잔돈을 1000원 받았다."
      ]
    },
    {
      "cell_type": "code",
      "execution_count": null,
      "metadata": {
        "id": "BZlOMJHKg7dN"
      },
      "outputs": [],
      "source": [
        "menu = '''[커피 자동주문 머신 메뉴]\n",
        "------------------------------\n",
        "-아메리카노는 2500원\n",
        "-카레라떼는 3000원\n",
        "-카푸치노는 3000원\n",
        "입니다. 원하시는 커피종류와 잔수를 입력하세요.\n",
        "------------------------------'''\n",
        "print(menu)\n",
        "coffee1 = int(input(\"아메리카노 몇잔?\"))\n",
        "coffee2 = int(input(\"카페라떼 몇잔?\"))\n",
        "coffee3 = int(input(\"카푸치노 몇잔?\"))\n",
        "\n",
        "if\n",
        "ame = 2500\n",
        "latte = 3000\n",
        "chino = 3000\n",
        "\n",
        "ame = coffee1 * 2500\n",
        "\n",
        "\n",
        "\n",
        "\n"
      ]
    },
    {
      "cell_type": "markdown",
      "metadata": {
        "id": "4RoolGBF8GGa"
      },
      "source": [
        "------"
      ]
    },
    {
      "cell_type": "markdown",
      "metadata": {
        "id": "G2T6Nybt8GGa"
      },
      "source": [
        "### **[반복문]**"
      ]
    },
    {
      "cell_type": "markdown",
      "metadata": {
        "id": "HuWJNA-T8GGa"
      },
      "source": [
        "### 실습문제 : 1~N까지 합계 구하기\n",
        "숫자를 입력받아 1~n까지의 합을 구할 때 짝수를 제외하고 합을 구하는 프로그램을 만들어 보세요."
      ]
    },
    {
      "cell_type": "code",
      "execution_count": null,
      "metadata": {
        "id": "t4NbQOOe8GGa"
      },
      "outputs": [],
      "source": [
        "n = int(input('합계를 구할 숫자 입력:'))\n",
        "hap = 0\n",
        "\n",
        "\n"
      ]
    },
    {
      "cell_type": "markdown",
      "metadata": {
        "id": "p7P0Vy-XjIBz"
      },
      "source": [
        "### 실습문제 : 나무 열 번 찍어 넘기기"
      ]
    },
    {
      "cell_type": "code",
      "execution_count": null,
      "metadata": {
        "id": "A1OSHn1tjNE5"
      },
      "outputs": [],
      "source": [
        "treeHit = 0\n",
        "\n"
      ]
    },
    {
      "cell_type": "markdown",
      "metadata": {
        "id": "iPCnjI9UkoHr"
      },
      "source": [
        "### 실습문제 :  커피 자동주문 프로그램 업그레이드\n",
        "앞에서 만들어 본 커피 자동주문 머신 프로그램을 while문을 이용하여 돈을 모두 지불할 때까지 돈을 입력 받도록 프로그램 기능 수정하기"
      ]
    },
    {
      "cell_type": "code",
      "execution_count": null,
      "metadata": {
        "id": "HtKho6P3kxtS"
      },
      "outputs": [],
      "source": [
        "menu = '''[커피 자동주문 머신 메뉴]\n",
        "------------------------------\n",
        "-아메리카노는 2500원\n",
        "-카레라떼는 3000원\n",
        "-카푸치노는 3000원\n",
        "입니다. 원하시는 커피종류와 잔수를 입력하세요.\n",
        "------------------------------'''\n",
        "print(menu)\n",
        "coffee1 = int(input(\"아메리카노 몇잔?\"))\n",
        "coffee2 = int(input(\"카페라떼 몇잔?\"))\n",
        "coffee3 = int(input(\"카푸치노 몇잔?\"))\n",
        "\n"
      ]
    },
    {
      "cell_type": "markdown",
      "metadata": {
        "id": "bBpYo7he8GGc"
      },
      "source": [
        "### 실습문제 : 도둑잡기 게임 만들기\n",
        "경찰에 쫓기던 범인이 3개의 방 중에 한 곳에 숨어버렸습니다. 범인은 방문을 열 때마다 무작위로 3개의 방 중 하나의 방으로 이동합니다. 3개의 방 중 하나의 방을 선택했을 때 범인이 있다면 100점, 없을 때 -10점을 부여하고 범인을 잡으면 게임을 종료하는 프로그램을 만들어 보세요."
      ]
    },
    {
      "cell_type": "code",
      "execution_count": null,
      "metadata": {
        "id": "Yjs0Tp0m8GGc"
      },
      "outputs": [],
      "source": [
        "import random\n",
        "score = 0\n",
        "\n",
        "while True:  # 무한반복\n",
        "    # 1.무작위로 범인 방 배치\n",
        "\n",
        "\n",
        "\n",
        "    # 2.사용자로부터 방 번호 입력 받기\n",
        "    n = int(input('방 번호를 입력하세요(1,2,3): '))\n",
        "\n",
        "    # 3.사용자가 입력한 방 번호와 범인이 있는 방 비교\n",
        "    # 4.범인을 찾으면\n",
        "    # 범인 체포“라는 메시지 출력\n",
        "    # 점수 증가\n",
        "    # 무한반복 빠져 나가기\n",
        "\n",
        "    # 5.범인을 찾지 못하면\n",
        "    # “범인을 찾지 못했다“라는 메시지 출력\n",
        "    # 점수 감소\n",
        "\n",
        "# 게임 종료 메시지 출력\n",
        "# 최종 점수 출력"
      ]
    },
    {
      "cell_type": "markdown",
      "metadata": {
        "id": "FTX-Fvb28GGc"
      },
      "source": [
        "------"
      ]
    },
    {
      "cell_type": "markdown",
      "metadata": {
        "id": "8tdBEUuy8GGe"
      },
      "source": [
        "## 4.함수를 이용하여 알고리즘 만들기"
      ]
    },
    {
      "cell_type": "markdown",
      "metadata": {
        "id": "A50BCkk98GGe"
      },
      "source": [
        "### **[함수 & 모듈]**"
      ]
    },
    {
      "cell_type": "code",
      "execution_count": null,
      "metadata": {
        "id": "3gNw75bI8GGe"
      },
      "outputs": [],
      "source": [
        "def nSum(a, b):\n",
        "    c = a + b\n",
        "    return c\n",
        "\n",
        "nSum(50, 3)"
      ]
    },
    {
      "cell_type": "markdown",
      "metadata": {
        "id": "ZH2oJDOzmgta"
      },
      "source": [
        "####  함수의 구조\n",
        "매개변수와 리턴값에 따른 함수의 유형 예"
      ]
    },
    {
      "cell_type": "markdown",
      "metadata": {
        "id": "ZVu_uCmBmwX9"
      },
      "source": [
        "- 매개변수(X), 리턴값(X)"
      ]
    },
    {
      "cell_type": "code",
      "execution_count": null,
      "metadata": {
        "id": "PhoFdGdpmg2i"
      },
      "outputs": [],
      "source": [
        "def func():\n",
        "    print('안녕하세요!')\n",
        "\n",
        "print( func() )"
      ]
    },
    {
      "cell_type": "markdown",
      "metadata": {
        "id": "rYJvu1mKm1lA"
      },
      "source": [
        "- 매개변수(X), 리턴값(O)"
      ]
    },
    {
      "cell_type": "code",
      "execution_count": null,
      "metadata": {
        "id": "RtmltcdOm1sg"
      },
      "outputs": [],
      "source": [
        "def func():\n",
        "    print('안녕하세요!')\n",
        "    return '처리완료!'\n",
        "\n",
        "print( func() )"
      ]
    },
    {
      "cell_type": "markdown",
      "metadata": {
        "id": "kAiXc3qom1zq"
      },
      "source": [
        "- 매개변수(O), 리턴값(X)"
      ]
    },
    {
      "cell_type": "code",
      "execution_count": null,
      "metadata": {
        "id": "mdneVBp_m16L"
      },
      "outputs": [],
      "source": [
        "def func(a, b):\n",
        "    print('덧셈: %d + %d = %d' % (a, b, a+b))\n",
        "\n",
        "print( func(5, 7) )"
      ]
    },
    {
      "cell_type": "markdown",
      "metadata": {
        "id": "UWx5mc2Bm2Ah"
      },
      "source": [
        "- 매개변수(O), 리턴값(O)"
      ]
    },
    {
      "cell_type": "code",
      "execution_count": null,
      "metadata": {
        "id": "u40Eqnc1m2IB"
      },
      "outputs": [],
      "source": [
        "def func(a, b):\n",
        "    print('덧셈: %d + %d = %d' % (a, b, a+b))\n",
        "    return a+b\n",
        "\n",
        "print( func(5, 7) )"
      ]
    },
    {
      "cell_type": "markdown",
      "metadata": {
        "id": "Oq6XLdiqm9lV"
      },
      "source": [
        "### 실습문제 : 암스트롱수 판별 함수\n",
        "다음 조건을 참고하여 암스트롱수를 구하는 함수를 만들어 출력하는 프로그램을 만들어 보세요.\n",
        "- **암스트롱수** : 세 자리의 정수 중에서 각 자리의 수를 세 제곱한 수의 합과 자신이 같은 수"
      ]
    },
    {
      "cell_type": "code",
      "execution_count": null,
      "metadata": {
        "id": "DvFLshFqm9t8"
      },
      "outputs": [],
      "source": [
        "def is_armstringNumber(N):\n",
        "\n",
        "\n",
        "\n",
        "\n",
        "for i in range(100, 1000):\n",
        "    if is_armstringNumber(i):\n",
        "        print(\"[%i] is armstrong number\" % i)"
      ]
    },
    {
      "cell_type": "markdown",
      "metadata": {
        "id": "Kvzu_J_a8GGf"
      },
      "source": [
        "### 실습문제 : 환전 계산 함수\n",
        "아래 조건을 만족하는 환전계산 함수를 만들어 보세요."
      ]
    },
    {
      "cell_type": "code",
      "execution_count": null,
      "metadata": {
        "id": "x1jdgfzq8GGf",
        "scrolled": true
      },
      "outputs": [],
      "source": [
        "def moneyExchange(m, c):\n",
        "\n",
        "\n",
        "\n",
        "countrys = {'미국':['달러', 1182.5],\n",
        "            '중국':['위안', 169.22],\n",
        "            '유럽':['유로', 1286.74],\n",
        "            '일본':['엔', 1078.14]}\n",
        "money = int(input('환전 금액(원)을 입력하세요: '))\n",
        "country = input('국가를 입력하세요: ')\n",
        "print('-'*30)\n",
        "moneyExchange(money, country)"
      ]
    },
    {
      "cell_type": "markdown",
      "source": [
        "\n",
        "\n",
        "---\n",
        "\n"
      ],
      "metadata": {
        "id": "jcBxboxauPTJ"
      }
    },
    {
      "cell_type": "markdown",
      "metadata": {
        "id": "Ajjvg18_8GGg"
      },
      "source": [
        "### 5.ChatGPT와 페어프로그래밍하기"
      ]
    },
    {
      "cell_type": "markdown",
      "source": [
        "### 실습문제 : 영어 단어장 만들기\n",
        "아래 조건을 만족시키는 <영어단어장 만들기> 프로그램을 만들어 보세요.\n",
        "\n",
        "영단어는 key, 그의 뜻은 value 로 두는 dictionary 를 만드세요.<br>\n",
        "<메뉴>\n",
        " - 1. 단어 등록\n",
        " - 2. 단어 검색\n",
        " - 3. 단어 삭제\n",
        " - 4. 모든 단어 보기\n",
        " - 0. 종료하기\n",
        "\n",
        "1. 단어 등록 <br>\n",
        "    새 영단어와 그의 뜻을 입력 받고 dictionary 에 추가합니다.\n",
        "\n",
        "2. 단어 검색<br>\n",
        "    영단어를 입력 받아 그의 뜻을 출력합니다.<br>\n",
        "    미등록된 단어인 경우 '미등록 단어'를 출력합니다.\n",
        "    \n",
        "3. 단어 삭제<br>\n",
        "    영단어를 입력 받아 단어장에서 해당 단어를 삭제한다.<br>\n",
        "    미등록된 단어인 경우 '미등록 단어'를 출력합니다\n",
        "    \n",
        "4. 모든 단어 보기<br>\n",
        "    현재 등록되어 있는 모든 단어와 뜻을 출력합니다.\n",
        "\n",
        "0. 종료하기"
      ],
      "metadata": {
        "id": "LgP7QlUCtw9A"
      }
    },
    {
      "cell_type": "code",
      "source": [
        "menu = '''---선택메뉴--\n",
        "1. 단어 등록\n",
        "2. 단어 검색\n",
        "3. 단어 삭제\n",
        "4. 모든 단어 보기\n",
        "0. 종료하기\n",
        "------------------------------'''\n",
        "\n",
        "# 빈 딕셔너리를 만든다. (반복문 안에 넣지 않는다!)\n",
        "wordbook = {}\n",
        "\n",
        "def addBook():\n",
        "\n",
        "\n",
        "def searchBook():\n",
        "\n",
        "\n",
        "def deleteBook():\n",
        "\n",
        "\n",
        "def showAllBook():\n",
        "\n",
        "\n"
      ],
      "metadata": {
        "id": "eZLiY8m-txGd"
      },
      "execution_count": null,
      "outputs": []
    },
    {
      "cell_type": "markdown",
      "metadata": {
        "id": "SD7IuCtyEfxZ"
      },
      "source": [
        "\n",
        "\n",
        "---\n",
        "THE END\n",
        "\n"
      ]
    },
    {
      "cell_type": "markdown",
      "metadata": {
        "id": "RQoDVEJ38GGg"
      },
      "source": [
        "------"
      ]
    }
  ],
  "metadata": {
    "colab": {
      "provenance": [],
      "include_colab_link": true
    },
    "kernelspec": {
      "display_name": "Python 3 (ipykernel)",
      "language": "python",
      "name": "python3"
    },
    "language_info": {
      "codemirror_mode": {
        "name": "ipython",
        "version": 3
      },
      "file_extension": ".py",
      "mimetype": "text/x-python",
      "name": "python",
      "nbconvert_exporter": "python",
      "pygments_lexer": "ipython3",
      "version": "3.10.9"
    }
  },
  "nbformat": 4,
  "nbformat_minor": 0
}